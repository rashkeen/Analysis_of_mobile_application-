{
 "cells": [
  {
   "cell_type": "markdown",
   "metadata": {},
   "source": [
    "# Проект: вариант 1"
   ]
  },
  {
   "cell_type": "markdown",
   "metadata": {},
   "source": [
    "Представьте, что вы работаете в компании, которая разрабатывает мобильные игры. К вам пришел менеджер с рядом задач по исследованию нескольких аспектов мобильного приложения:\n",
    "\n",
    "1. В первую очередь, его интересует показатель retention. Напишите функцию для его подсчета.\n",
    "\n",
    "2. Помимо этого, в компании провели A/B тестирование наборов акционных предложений. На основе имеющихся данных определите, какой набор можно считать лучшим и на основе каких метрик стоит принять правильное решение.\n",
    "\n",
    "3. Предложите метрики для оценки результатов последнего прошедшего тематического события в игре."
   ]
  },
  {
   "cell_type": "markdown",
   "metadata": {},
   "source": [
    "## Задание 1"
   ]
  },
  {
   "cell_type": "markdown",
   "metadata": {},
   "source": [
    "Retention – один из самых важных показателей в компании. Ваша задача – написать функцию, которая будет считать retention игроков (по дням от даты регистрации игрока). Данные лежат в папке shared и имеют следующую структуру:\n",
    "\n",
    "- shared/problem1-reg_data.csv – данные о времени регистрации\n",
    "- shared/problem1-auth_data.csv – данные о времени захода пользователей в игру"
   ]
  },
  {
   "cell_type": "code",
   "execution_count": 2,
   "metadata": {},
   "outputs": [
    {
     "name": "stderr",
     "output_type": "stream",
     "text": [
      "/opt/tljh/user/lib/python3.7/site-packages/outdated/utils.py:18: OutdatedCacheFailedWarning: Failed to use cache while checking for outdated package.\n",
      "Set the environment variable OUTDATED_RAISE_EXCEPTION=1 for a full traceback.\n",
      "Set the environment variable OUTDATED_IGNORE=1 to disable these warnings.\n",
      "  **kwargs\n",
      "/opt/tljh/user/lib/python3.7/site-packages/outdated/utils.py:18: OutdatedPackageWarning: The package outdated is out of date. Your version is 0.2.1, the latest is 0.2.2.\n",
      "Set the environment variable OUTDATED_IGNORE=1 to disable these warnings.\n",
      "  **kwargs\n",
      "/opt/tljh/user/lib/python3.7/site-packages/outdated/utils.py:18: OutdatedPackageWarning: The package pingouin is out of date. Your version is 0.4.0, the latest is 0.5.5.\n",
      "Set the environment variable OUTDATED_IGNORE=1 to disable these warnings.\n",
      "  **kwargs\n"
     ]
    }
   ],
   "source": [
    "import pandas as pd\n",
    "import numpy as np\n",
    "import pingouin as pg\n",
    "import seaborn as sns\n",
    "import matplotlib.pyplot as plt\n",
    "import scipy.stats as st\n",
    "from scipy import stats\n",
    "from scipy.stats import mannwhitneyu\n",
    "from scipy.stats import bootstrap\n",
    "from scipy.stats import chisquare\n",
    "from scipy.stats import chi2_contingency\n",
    "\n",
    "sns.set(rc={'figure.figsize':(12,6)}, style=\"whitegrid\")"
   ]
  },
  {
   "cell_type": "code",
   "execution_count": 2,
   "metadata": {},
   "outputs": [
    {
     "name": "stderr",
     "output_type": "stream",
     "text": [
      "/opt/tljh/user/lib/python3.7/site-packages/outdated/utils.py:18: OutdatedCacheFailedWarning: Failed to use cache while checking for outdated package.\n",
      "Set the environment variable OUTDATED_RAISE_EXCEPTION=1 for a full traceback.\n",
      "Set the environment variable OUTDATED_IGNORE=1 to disable these warnings.\n",
      "  **kwargs\n",
      "/opt/tljh/user/lib/python3.7/site-packages/outdated/utils.py:18: OutdatedPackageWarning: The package outdated is out of date. Your version is 0.2.1, the latest is 0.2.2.\n",
      "Set the environment variable OUTDATED_IGNORE=1 to disable these warnings.\n",
      "  **kwargs\n"
     ]
    },
    {
     "data": {
      "text/html": [
       "<div>\n",
       "<style scoped>\n",
       "    .dataframe tbody tr th:only-of-type {\n",
       "        vertical-align: middle;\n",
       "    }\n",
       "\n",
       "    .dataframe tbody tr th {\n",
       "        vertical-align: top;\n",
       "    }\n",
       "\n",
       "    .dataframe thead th {\n",
       "        text-align: right;\n",
       "    }\n",
       "</style>\n",
       "<table border=\"1\" class=\"dataframe\">\n",
       "  <thead>\n",
       "    <tr style=\"text-align: right;\">\n",
       "      <th></th>\n",
       "      <th>reg_ts</th>\n",
       "      <th>uid</th>\n",
       "    </tr>\n",
       "  </thead>\n",
       "  <tbody>\n",
       "    <tr>\n",
       "      <th>0</th>\n",
       "      <td>911382223</td>\n",
       "      <td>1</td>\n",
       "    </tr>\n",
       "    <tr>\n",
       "      <th>1</th>\n",
       "      <td>932683089</td>\n",
       "      <td>2</td>\n",
       "    </tr>\n",
       "    <tr>\n",
       "      <th>2</th>\n",
       "      <td>947802447</td>\n",
       "      <td>3</td>\n",
       "    </tr>\n",
       "    <tr>\n",
       "      <th>3</th>\n",
       "      <td>959523541</td>\n",
       "      <td>4</td>\n",
       "    </tr>\n",
       "    <tr>\n",
       "      <th>4</th>\n",
       "      <td>969103313</td>\n",
       "      <td>5</td>\n",
       "    </tr>\n",
       "  </tbody>\n",
       "</table>\n",
       "</div>"
      ],
      "text/plain": [
       "      reg_ts  uid\n",
       "0  911382223    1\n",
       "1  932683089    2\n",
       "2  947802447    3\n",
       "3  959523541    4\n",
       "4  969103313    5"
      ]
     },
     "execution_count": 2,
     "metadata": {},
     "output_type": "execute_result"
    }
   ],
   "source": [
    "reg_data = pd.read_csv('/mnt/HC_Volume_18315164/home-jupyter/jupyter-r-gilvanov/shared/problem1-reg_data.csv', sep=';')\n",
    "reg_data.head()"
   ]
  },
  {
   "cell_type": "code",
   "execution_count": 3,
   "metadata": {},
   "outputs": [
    {
     "name": "stderr",
     "output_type": "stream",
     "text": [
      "/opt/tljh/user/lib/python3.7/site-packages/outdated/utils.py:18: OutdatedCacheFailedWarning: Failed to use cache while checking for outdated package.\n",
      "Set the environment variable OUTDATED_RAISE_EXCEPTION=1 for a full traceback.\n",
      "Set the environment variable OUTDATED_IGNORE=1 to disable these warnings.\n",
      "  **kwargs\n",
      "/opt/tljh/user/lib/python3.7/site-packages/outdated/utils.py:18: OutdatedPackageWarning: The package pingouin is out of date. Your version is 0.4.0, the latest is 0.5.5.\n",
      "Set the environment variable OUTDATED_IGNORE=1 to disable these warnings.\n",
      "  **kwargs\n"
     ]
    },
    {
     "data": {
      "text/html": [
       "<div>\n",
       "<style scoped>\n",
       "    .dataframe tbody tr th:only-of-type {\n",
       "        vertical-align: middle;\n",
       "    }\n",
       "\n",
       "    .dataframe tbody tr th {\n",
       "        vertical-align: top;\n",
       "    }\n",
       "\n",
       "    .dataframe thead th {\n",
       "        text-align: right;\n",
       "    }\n",
       "</style>\n",
       "<table border=\"1\" class=\"dataframe\">\n",
       "  <thead>\n",
       "    <tr style=\"text-align: right;\">\n",
       "      <th></th>\n",
       "      <th>auth_ts</th>\n",
       "      <th>uid</th>\n",
       "    </tr>\n",
       "  </thead>\n",
       "  <tbody>\n",
       "    <tr>\n",
       "      <th>0</th>\n",
       "      <td>911382223</td>\n",
       "      <td>1</td>\n",
       "    </tr>\n",
       "    <tr>\n",
       "      <th>1</th>\n",
       "      <td>932683089</td>\n",
       "      <td>2</td>\n",
       "    </tr>\n",
       "    <tr>\n",
       "      <th>2</th>\n",
       "      <td>932921206</td>\n",
       "      <td>2</td>\n",
       "    </tr>\n",
       "    <tr>\n",
       "      <th>3</th>\n",
       "      <td>933393015</td>\n",
       "      <td>2</td>\n",
       "    </tr>\n",
       "    <tr>\n",
       "      <th>4</th>\n",
       "      <td>933875379</td>\n",
       "      <td>2</td>\n",
       "    </tr>\n",
       "  </tbody>\n",
       "</table>\n",
       "</div>"
      ],
      "text/plain": [
       "     auth_ts  uid\n",
       "0  911382223    1\n",
       "1  932683089    2\n",
       "2  932921206    2\n",
       "3  933393015    2\n",
       "4  933875379    2"
      ]
     },
     "execution_count": 3,
     "metadata": {},
     "output_type": "execute_result"
    }
   ],
   "source": [
    "auth_data = pd.read_csv('/mnt/HC_Volume_18315164/home-jupyter/jupyter-r-gilvanov/shared/problem1-auth_data.csv', sep=';')\n",
    "auth_data.head()"
   ]
  },
  {
   "cell_type": "code",
   "execution_count": 4,
   "metadata": {},
   "outputs": [
    {
     "name": "stdout",
     "output_type": "stream",
     "text": [
      "<class 'pandas.core.frame.DataFrame'>\n",
      "RangeIndex: 1000000 entries, 0 to 999999\n",
      "Data columns (total 2 columns):\n",
      " #   Column  Non-Null Count    Dtype\n",
      "---  ------  --------------    -----\n",
      " 0   reg_ts  1000000 non-null  int64\n",
      " 1   uid     1000000 non-null  int64\n",
      "dtypes: int64(2)\n",
      "memory usage: 15.3 MB\n"
     ]
    }
   ],
   "source": [
    "#Знакомство с нашими данными: кол-во строк и столбцов, типы переменных, а так же наличие пропущенных значений\n",
    "\n",
    "reg_data.info()"
   ]
  },
  {
   "cell_type": "code",
   "execution_count": 5,
   "metadata": {},
   "outputs": [
    {
     "name": "stdout",
     "output_type": "stream",
     "text": [
      "<class 'pandas.core.frame.DataFrame'>\n",
      "RangeIndex: 9601013 entries, 0 to 9601012\n",
      "Data columns (total 2 columns):\n",
      " #   Column   Dtype\n",
      "---  ------   -----\n",
      " 0   auth_ts  int64\n",
      " 1   uid      int64\n",
      "dtypes: int64(2)\n",
      "memory usage: 146.5 MB\n"
     ]
    }
   ],
   "source": [
    "auth_data.info()"
   ]
  },
  {
   "cell_type": "code",
   "execution_count": 6,
   "metadata": {},
   "outputs": [
    {
     "data": {
      "text/plain": [
       "reg_ts    0\n",
       "uid       0\n",
       "dtype: int64"
      ]
     },
     "execution_count": 6,
     "metadata": {},
     "output_type": "execute_result"
    }
   ],
   "source": [
    "reg_data.isna().sum()"
   ]
  },
  {
   "cell_type": "code",
   "execution_count": 7,
   "metadata": {},
   "outputs": [
    {
     "data": {
      "text/plain": [
       "auth_ts    0\n",
       "uid        0\n",
       "dtype: int64"
      ]
     },
     "execution_count": 7,
     "metadata": {},
     "output_type": "execute_result"
    }
   ],
   "source": [
    "auth_data.isna().sum()"
   ]
  },
  {
   "cell_type": "code",
   "execution_count": 8,
   "metadata": {},
   "outputs": [
    {
     "data": {
      "text/html": [
       "<div>\n",
       "<style scoped>\n",
       "    .dataframe tbody tr th:only-of-type {\n",
       "        vertical-align: middle;\n",
       "    }\n",
       "\n",
       "    .dataframe tbody tr th {\n",
       "        vertical-align: top;\n",
       "    }\n",
       "\n",
       "    .dataframe thead th {\n",
       "        text-align: right;\n",
       "    }\n",
       "</style>\n",
       "<table border=\"1\" class=\"dataframe\">\n",
       "  <thead>\n",
       "    <tr style=\"text-align: right;\">\n",
       "      <th></th>\n",
       "      <th>reg_ts</th>\n",
       "      <th>uid</th>\n",
       "    </tr>\n",
       "  </thead>\n",
       "  <tbody>\n",
       "    <tr>\n",
       "      <th>0</th>\n",
       "      <td>1998-11-18 09:43:43</td>\n",
       "      <td>1</td>\n",
       "    </tr>\n",
       "    <tr>\n",
       "      <th>1</th>\n",
       "      <td>1999-07-22 22:38:09</td>\n",
       "      <td>2</td>\n",
       "    </tr>\n",
       "    <tr>\n",
       "      <th>2</th>\n",
       "      <td>2000-01-13 22:27:27</td>\n",
       "      <td>3</td>\n",
       "    </tr>\n",
       "    <tr>\n",
       "      <th>3</th>\n",
       "      <td>2000-05-28 14:19:01</td>\n",
       "      <td>4</td>\n",
       "    </tr>\n",
       "    <tr>\n",
       "      <th>4</th>\n",
       "      <td>2000-09-16 11:21:53</td>\n",
       "      <td>5</td>\n",
       "    </tr>\n",
       "  </tbody>\n",
       "</table>\n",
       "</div>"
      ],
      "text/plain": [
       "               reg_ts  uid\n",
       "0 1998-11-18 09:43:43    1\n",
       "1 1999-07-22 22:38:09    2\n",
       "2 2000-01-13 22:27:27    3\n",
       "3 2000-05-28 14:19:01    4\n",
       "4 2000-09-16 11:21:53    5"
      ]
     },
     "execution_count": 8,
     "metadata": {},
     "output_type": "execute_result"
    }
   ],
   "source": [
    "# Преобразование временной метки в читаемый формат\n",
    "reg_data['reg_ts'] = pd.to_datetime(reg_data['reg_ts'], unit='s')\n",
    "reg_data.head()"
   ]
  },
  {
   "cell_type": "code",
   "execution_count": 9,
   "metadata": {},
   "outputs": [
    {
     "data": {
      "text/html": [
       "<div>\n",
       "<style scoped>\n",
       "    .dataframe tbody tr th:only-of-type {\n",
       "        vertical-align: middle;\n",
       "    }\n",
       "\n",
       "    .dataframe tbody tr th {\n",
       "        vertical-align: top;\n",
       "    }\n",
       "\n",
       "    .dataframe thead th {\n",
       "        text-align: right;\n",
       "    }\n",
       "</style>\n",
       "<table border=\"1\" class=\"dataframe\">\n",
       "  <thead>\n",
       "    <tr style=\"text-align: right;\">\n",
       "      <th></th>\n",
       "      <th>auth_ts</th>\n",
       "      <th>uid</th>\n",
       "    </tr>\n",
       "  </thead>\n",
       "  <tbody>\n",
       "    <tr>\n",
       "      <th>0</th>\n",
       "      <td>1998-11-18 09:43:43</td>\n",
       "      <td>1</td>\n",
       "    </tr>\n",
       "    <tr>\n",
       "      <th>1</th>\n",
       "      <td>1999-07-22 22:38:09</td>\n",
       "      <td>2</td>\n",
       "    </tr>\n",
       "    <tr>\n",
       "      <th>2</th>\n",
       "      <td>1999-07-25 16:46:46</td>\n",
       "      <td>2</td>\n",
       "    </tr>\n",
       "    <tr>\n",
       "      <th>3</th>\n",
       "      <td>1999-07-31 03:50:15</td>\n",
       "      <td>2</td>\n",
       "    </tr>\n",
       "    <tr>\n",
       "      <th>4</th>\n",
       "      <td>1999-08-05 17:49:39</td>\n",
       "      <td>2</td>\n",
       "    </tr>\n",
       "  </tbody>\n",
       "</table>\n",
       "</div>"
      ],
      "text/plain": [
       "              auth_ts  uid\n",
       "0 1998-11-18 09:43:43    1\n",
       "1 1999-07-22 22:38:09    2\n",
       "2 1999-07-25 16:46:46    2\n",
       "3 1999-07-31 03:50:15    2\n",
       "4 1999-08-05 17:49:39    2"
      ]
     },
     "execution_count": 9,
     "metadata": {},
     "output_type": "execute_result"
    }
   ],
   "source": [
    "auth_data['auth_ts'] = pd.to_datetime(auth_data['auth_ts'], unit='s')\n",
    "auth_data.head()"
   ]
  },
  {
   "cell_type": "code",
   "execution_count": 10,
   "metadata": {},
   "outputs": [],
   "source": [
    "# Оставим в датах только день, когда было совершено действие\n",
    "reg_data['reg_ts'] = reg_data['reg_ts'].dt.date\n",
    "auth_data['auth_ts'] = auth_data['auth_ts'].dt.date"
   ]
  },
  {
   "cell_type": "code",
   "execution_count": 11,
   "metadata": {},
   "outputs": [
    {
     "data": {
      "text/plain": [
       "min    1998-11-18\n",
       "max    2020-09-23\n",
       "Name: reg_ts, dtype: object"
      ]
     },
     "execution_count": 11,
     "metadata": {},
     "output_type": "execute_result"
    }
   ],
   "source": [
    "# Проанализируем минимальную и максимальную дату в наших данных\n",
    "\n",
    "reg_data['reg_ts'].agg(['min', 'max'])"
   ]
  },
  {
   "cell_type": "code",
   "execution_count": 12,
   "metadata": {},
   "outputs": [
    {
     "data": {
      "text/plain": [
       "min    1998-11-18\n",
       "max    2020-09-23\n",
       "Name: auth_ts, dtype: object"
      ]
     },
     "execution_count": 12,
     "metadata": {},
     "output_type": "execute_result"
    }
   ],
   "source": [
    "auth_data['auth_ts'].agg(['min', 'max'])"
   ]
  },
  {
   "cell_type": "code",
   "execution_count": 13,
   "metadata": {},
   "outputs": [],
   "source": [
    "# Объединим данные с авторизациями и регистрациями по 'uid'\n",
    "\n",
    "merged_df = pd.merge(auth_data, reg_data, on='uid', how='inner')"
   ]
  },
  {
   "cell_type": "code",
   "execution_count": 14,
   "metadata": {},
   "outputs": [
    {
     "data": {
      "text/html": [
       "<div>\n",
       "<style scoped>\n",
       "    .dataframe tbody tr th:only-of-type {\n",
       "        vertical-align: middle;\n",
       "    }\n",
       "\n",
       "    .dataframe tbody tr th {\n",
       "        vertical-align: top;\n",
       "    }\n",
       "\n",
       "    .dataframe thead th {\n",
       "        text-align: right;\n",
       "    }\n",
       "</style>\n",
       "<table border=\"1\" class=\"dataframe\">\n",
       "  <thead>\n",
       "    <tr style=\"text-align: right;\">\n",
       "      <th></th>\n",
       "      <th>auth_ts</th>\n",
       "      <th>uid</th>\n",
       "      <th>reg_ts</th>\n",
       "    </tr>\n",
       "  </thead>\n",
       "  <tbody>\n",
       "    <tr>\n",
       "      <th>0</th>\n",
       "      <td>1998-11-18</td>\n",
       "      <td>1</td>\n",
       "      <td>1998-11-18</td>\n",
       "    </tr>\n",
       "    <tr>\n",
       "      <th>1</th>\n",
       "      <td>1999-07-22</td>\n",
       "      <td>2</td>\n",
       "      <td>1999-07-22</td>\n",
       "    </tr>\n",
       "    <tr>\n",
       "      <th>2</th>\n",
       "      <td>1999-07-25</td>\n",
       "      <td>2</td>\n",
       "      <td>1999-07-22</td>\n",
       "    </tr>\n",
       "    <tr>\n",
       "      <th>3</th>\n",
       "      <td>1999-07-31</td>\n",
       "      <td>2</td>\n",
       "      <td>1999-07-22</td>\n",
       "    </tr>\n",
       "    <tr>\n",
       "      <th>4</th>\n",
       "      <td>1999-08-05</td>\n",
       "      <td>2</td>\n",
       "      <td>1999-07-22</td>\n",
       "    </tr>\n",
       "    <tr>\n",
       "      <th>...</th>\n",
       "      <td>...</td>\n",
       "      <td>...</td>\n",
       "      <td>...</td>\n",
       "    </tr>\n",
       "    <tr>\n",
       "      <th>9601008</th>\n",
       "      <td>2020-09-23</td>\n",
       "      <td>1110618</td>\n",
       "      <td>2020-09-23</td>\n",
       "    </tr>\n",
       "    <tr>\n",
       "      <th>9601009</th>\n",
       "      <td>2020-09-23</td>\n",
       "      <td>1110619</td>\n",
       "      <td>2020-09-23</td>\n",
       "    </tr>\n",
       "    <tr>\n",
       "      <th>9601010</th>\n",
       "      <td>2020-09-23</td>\n",
       "      <td>1110620</td>\n",
       "      <td>2020-09-23</td>\n",
       "    </tr>\n",
       "    <tr>\n",
       "      <th>9601011</th>\n",
       "      <td>2020-09-23</td>\n",
       "      <td>1110621</td>\n",
       "      <td>2020-09-23</td>\n",
       "    </tr>\n",
       "    <tr>\n",
       "      <th>9601012</th>\n",
       "      <td>2020-09-23</td>\n",
       "      <td>1110622</td>\n",
       "      <td>2020-09-23</td>\n",
       "    </tr>\n",
       "  </tbody>\n",
       "</table>\n",
       "<p>9601013 rows × 3 columns</p>\n",
       "</div>"
      ],
      "text/plain": [
       "            auth_ts      uid      reg_ts\n",
       "0        1998-11-18        1  1998-11-18\n",
       "1        1999-07-22        2  1999-07-22\n",
       "2        1999-07-25        2  1999-07-22\n",
       "3        1999-07-31        2  1999-07-22\n",
       "4        1999-08-05        2  1999-07-22\n",
       "...             ...      ...         ...\n",
       "9601008  2020-09-23  1110618  2020-09-23\n",
       "9601009  2020-09-23  1110619  2020-09-23\n",
       "9601010  2020-09-23  1110620  2020-09-23\n",
       "9601011  2020-09-23  1110621  2020-09-23\n",
       "9601012  2020-09-23  1110622  2020-09-23\n",
       "\n",
       "[9601013 rows x 3 columns]"
      ]
     },
     "execution_count": 14,
     "metadata": {},
     "output_type": "execute_result"
    }
   ],
   "source": [
    "merged_df"
   ]
  },
  {
   "cell_type": "code",
   "execution_count": 35,
   "metadata": {},
   "outputs": [],
   "source": [
    "def retention_rate(merged_df, start_time, finish_time, max_days=None):\n",
    "    \n",
    "    \"\"\"\n",
    "    Функция для вычисления коэффициента удержания (retention) по когортам с последующей визуализацией.\n",
    "\n",
    "    Параметры:\n",
    "    merged_df: объединенный DataFrame, содержащий данные о регистрациях и авторизациях пользователей.\n",
    "    start_time: дата начала периода в формате 'YYYY-MM-DD'.\n",
    "    finish_time: дата окончания периода в формате 'YYYY-MM-DD'.\n",
    "    max_days: количество дней, отображаемых в результате вычисления удержания пользователей.\n",
    "    \n",
    "    Возвращает: DataFrame с рассчитанным коэффициентом удержания за указанный период.\n",
    "    \"\"\"\n",
    "    \n",
    "    # Преобразование строковых дат в datetime\n",
    "    start_time = pd.to_datetime(start_time)\n",
    "    finish_time = pd.to_datetime(finish_time)\n",
    "    \n",
    "    # Фильтрация данных по времени\n",
    "    filtered_df = merged_df[(merged_df['reg_ts'] >= start_time) & (merged_df['reg_ts'] <= finish_time)]\n",
    "    \n",
    "    # Проверка, есть ли данные после фильтрации\n",
    "    if filtered_df.empty:\n",
    "        print(\"Нет данных в заданном диапазоне дат.\")\n",
    "        return None\n",
    "    \n",
    "    # Создаем вспомогательный DataFrame для подсчета когорт по дням\n",
    "    cohort_data = filtered_df.groupby(['reg_ts', 'auth_ts']).agg({'uid': 'nunique'}).reset_index()\n",
    "    \n",
    "    # Вычисляем номер дня от регистрации\n",
    "    cohort_data['day_number'] = (cohort_data['auth_ts'] - cohort_data['reg_ts']).dt.days\n",
    "    \n",
    "    # Сводим данные для отображения\n",
    "    cohort_pivot = cohort_data.pivot_table(index='reg_ts', columns='day_number', values='uid', fill_value=0)\n",
    "    \n",
    "    # Заменяем значения 0 на NaN\n",
    "    cohort_pivot.replace(0, np.nan, inplace=True)\n",
    "    \n",
    "    # Определяем количество пользователей в каждой когорте\n",
    "    cohort_sizes = cohort_pivot.iloc[:, 0]\n",
    "    \n",
    "    # Вычисляем удержание\n",
    "    retention = (cohort_pivot.divide(cohort_sizes, axis=0))\n",
    "    \n",
    "    # Удаляем нулевой день (столбец с day_number = 0)\n",
    "    retention = retention.drop(columns=[0], errors='ignore')\n",
    "    \n",
    "    # Ограничиваем количество выводимых дней, если max_days задан\n",
    "    if max_days is not None:\n",
    "        retention = retention.iloc[:, :max_days]\n",
    "\n",
    "    # Визуализация \n",
    "    ur_style = (retention\n",
    "            .style\n",
    "            .set_caption('User retention by cohort')  # добавляем подпись\n",
    "            .background_gradient(cmap='viridis')  # раскрашиваем ячейки по столбцам\n",
    "            .highlight_null('white')  # делаем белый фон для значений NaN\n",
    "            .format(\"{:.2%}\", na_rep=\"\"))  # числа форматируем как проценты, NaN заменяем на пустоту\n",
    "    \n",
    "    return ur_style  # Возвращаем результат"
   ]
  },
  {
   "cell_type": "code",
   "execution_count": 19,
   "metadata": {},
   "outputs": [
    {
     "data": {
      "text/html": [
       "<style  type=\"text/css\" >\n",
       "#T_4cc5c7b6_94b7_11ef_bdbb_96000040dfb6row0_col0{\n",
       "            background-color:  #5ec962;\n",
       "            color:  #000000;\n",
       "        }#T_4cc5c7b6_94b7_11ef_bdbb_96000040dfb6row0_col1{\n",
       "            background-color:  #93d741;\n",
       "            color:  #000000;\n",
       "        }#T_4cc5c7b6_94b7_11ef_bdbb_96000040dfb6row0_col2,#T_4cc5c7b6_94b7_11ef_bdbb_96000040dfb6row0_col4,#T_4cc5c7b6_94b7_11ef_bdbb_96000040dfb6row0_col6,#T_4cc5c7b6_94b7_11ef_bdbb_96000040dfb6row0_col11,#T_4cc5c7b6_94b7_11ef_bdbb_96000040dfb6row1_col10,#T_4cc5c7b6_94b7_11ef_bdbb_96000040dfb6row2_col7,#T_4cc5c7b6_94b7_11ef_bdbb_96000040dfb6row2_col8,#T_4cc5c7b6_94b7_11ef_bdbb_96000040dfb6row2_col9,#T_4cc5c7b6_94b7_11ef_bdbb_96000040dfb6row4_col5,#T_4cc5c7b6_94b7_11ef_bdbb_96000040dfb6row5_col3,#T_4cc5c7b6_94b7_11ef_bdbb_96000040dfb6row6_col4,#T_4cc5c7b6_94b7_11ef_bdbb_96000040dfb6row8_col1,#T_4cc5c7b6_94b7_11ef_bdbb_96000040dfb6row10_col0{\n",
       "            background-color:  #fde725;\n",
       "            color:  #000000;\n",
       "        }#T_4cc5c7b6_94b7_11ef_bdbb_96000040dfb6row0_col3{\n",
       "            background-color:  #365d8d;\n",
       "            color:  #f1f1f1;\n",
       "        }#T_4cc5c7b6_94b7_11ef_bdbb_96000040dfb6row0_col5{\n",
       "            background-color:  #5ac864;\n",
       "            color:  #000000;\n",
       "        }#T_4cc5c7b6_94b7_11ef_bdbb_96000040dfb6row0_col7,#T_4cc5c7b6_94b7_11ef_bdbb_96000040dfb6row2_col5{\n",
       "            background-color:  #9bd93c;\n",
       "            color:  #000000;\n",
       "        }#T_4cc5c7b6_94b7_11ef_bdbb_96000040dfb6row0_col8{\n",
       "            background-color:  #52c569;\n",
       "            color:  #000000;\n",
       "        }#T_4cc5c7b6_94b7_11ef_bdbb_96000040dfb6row0_col9{\n",
       "            background-color:  #f1e51d;\n",
       "            color:  #000000;\n",
       "        }#T_4cc5c7b6_94b7_11ef_bdbb_96000040dfb6row0_col10,#T_4cc5c7b6_94b7_11ef_bdbb_96000040dfb6row1_col8{\n",
       "            background-color:  #6ece58;\n",
       "            color:  #000000;\n",
       "        }#T_4cc5c7b6_94b7_11ef_bdbb_96000040dfb6row0_col12,#T_4cc5c7b6_94b7_11ef_bdbb_96000040dfb6row1_col11,#T_4cc5c7b6_94b7_11ef_bdbb_96000040dfb6row2_col10,#T_4cc5c7b6_94b7_11ef_bdbb_96000040dfb6row3_col9,#T_4cc5c7b6_94b7_11ef_bdbb_96000040dfb6row4_col8,#T_4cc5c7b6_94b7_11ef_bdbb_96000040dfb6row5_col7,#T_4cc5c7b6_94b7_11ef_bdbb_96000040dfb6row6_col6,#T_4cc5c7b6_94b7_11ef_bdbb_96000040dfb6row7_col5,#T_4cc5c7b6_94b7_11ef_bdbb_96000040dfb6row8_col4,#T_4cc5c7b6_94b7_11ef_bdbb_96000040dfb6row9_col3,#T_4cc5c7b6_94b7_11ef_bdbb_96000040dfb6row10_col2,#T_4cc5c7b6_94b7_11ef_bdbb_96000040dfb6row11_col1,#T_4cc5c7b6_94b7_11ef_bdbb_96000040dfb6row12_col0{\n",
       "            background-color:  #440154;\n",
       "            color:  #f1f1f1;\n",
       "        }#T_4cc5c7b6_94b7_11ef_bdbb_96000040dfb6row1_col0{\n",
       "            background-color:  #375b8d;\n",
       "            color:  #f1f1f1;\n",
       "        }#T_4cc5c7b6_94b7_11ef_bdbb_96000040dfb6row1_col1{\n",
       "            background-color:  #38b977;\n",
       "            color:  #000000;\n",
       "        }#T_4cc5c7b6_94b7_11ef_bdbb_96000040dfb6row1_col2{\n",
       "            background-color:  #b8de29;\n",
       "            color:  #000000;\n",
       "        }#T_4cc5c7b6_94b7_11ef_bdbb_96000040dfb6row1_col3,#T_4cc5c7b6_94b7_11ef_bdbb_96000040dfb6row7_col1{\n",
       "            background-color:  #98d83e;\n",
       "            color:  #000000;\n",
       "        }#T_4cc5c7b6_94b7_11ef_bdbb_96000040dfb6row1_col4{\n",
       "            background-color:  #2eb37c;\n",
       "            color:  #000000;\n",
       "        }#T_4cc5c7b6_94b7_11ef_bdbb_96000040dfb6row1_col5{\n",
       "            background-color:  #bade28;\n",
       "            color:  #000000;\n",
       "        }#T_4cc5c7b6_94b7_11ef_bdbb_96000040dfb6row1_col6,#T_4cc5c7b6_94b7_11ef_bdbb_96000040dfb6row3_col7{\n",
       "            background-color:  #77d153;\n",
       "            color:  #000000;\n",
       "        }#T_4cc5c7b6_94b7_11ef_bdbb_96000040dfb6row1_col7,#T_4cc5c7b6_94b7_11ef_bdbb_96000040dfb6row5_col1{\n",
       "            background-color:  #40bd72;\n",
       "            color:  #000000;\n",
       "        }#T_4cc5c7b6_94b7_11ef_bdbb_96000040dfb6row1_col9,#T_4cc5c7b6_94b7_11ef_bdbb_96000040dfb6row5_col0{\n",
       "            background-color:  #a0da39;\n",
       "            color:  #000000;\n",
       "        }#T_4cc5c7b6_94b7_11ef_bdbb_96000040dfb6row1_col12,#T_4cc5c7b6_94b7_11ef_bdbb_96000040dfb6row2_col12,#T_4cc5c7b6_94b7_11ef_bdbb_96000040dfb6row3_col12,#T_4cc5c7b6_94b7_11ef_bdbb_96000040dfb6row4_col12,#T_4cc5c7b6_94b7_11ef_bdbb_96000040dfb6row5_col12,#T_4cc5c7b6_94b7_11ef_bdbb_96000040dfb6row6_col12,#T_4cc5c7b6_94b7_11ef_bdbb_96000040dfb6row7_col12,#T_4cc5c7b6_94b7_11ef_bdbb_96000040dfb6row8_col12,#T_4cc5c7b6_94b7_11ef_bdbb_96000040dfb6row9_col12,#T_4cc5c7b6_94b7_11ef_bdbb_96000040dfb6row10_col12,#T_4cc5c7b6_94b7_11ef_bdbb_96000040dfb6row11_col12,#T_4cc5c7b6_94b7_11ef_bdbb_96000040dfb6row12_col12,#T_4cc5c7b6_94b7_11ef_bdbb_96000040dfb6row13_col12{\n",
       "            background-color:  #440154;\n",
       "            color:  #f1f1f1;\n",
       "            background-color:  white;\n",
       "        }#T_4cc5c7b6_94b7_11ef_bdbb_96000040dfb6row2_col0{\n",
       "            background-color:  #37b878;\n",
       "            color:  #000000;\n",
       "        }#T_4cc5c7b6_94b7_11ef_bdbb_96000040dfb6row2_col1{\n",
       "            background-color:  #1e9c89;\n",
       "            color:  #000000;\n",
       "        }#T_4cc5c7b6_94b7_11ef_bdbb_96000040dfb6row2_col2{\n",
       "            background-color:  #eae51a;\n",
       "            color:  #000000;\n",
       "        }#T_4cc5c7b6_94b7_11ef_bdbb_96000040dfb6row2_col3{\n",
       "            background-color:  #25858e;\n",
       "            color:  #000000;\n",
       "        }#T_4cc5c7b6_94b7_11ef_bdbb_96000040dfb6row2_col4{\n",
       "            background-color:  #67cc5c;\n",
       "            color:  #000000;\n",
       "        }#T_4cc5c7b6_94b7_11ef_bdbb_96000040dfb6row2_col6,#T_4cc5c7b6_94b7_11ef_bdbb_96000040dfb6row3_col3{\n",
       "            background-color:  #2db27d;\n",
       "            color:  #000000;\n",
       "        }#T_4cc5c7b6_94b7_11ef_bdbb_96000040dfb6row2_col11,#T_4cc5c7b6_94b7_11ef_bdbb_96000040dfb6row3_col10,#T_4cc5c7b6_94b7_11ef_bdbb_96000040dfb6row3_col11,#T_4cc5c7b6_94b7_11ef_bdbb_96000040dfb6row4_col9,#T_4cc5c7b6_94b7_11ef_bdbb_96000040dfb6row4_col10,#T_4cc5c7b6_94b7_11ef_bdbb_96000040dfb6row4_col11,#T_4cc5c7b6_94b7_11ef_bdbb_96000040dfb6row5_col8,#T_4cc5c7b6_94b7_11ef_bdbb_96000040dfb6row5_col9,#T_4cc5c7b6_94b7_11ef_bdbb_96000040dfb6row5_col10,#T_4cc5c7b6_94b7_11ef_bdbb_96000040dfb6row5_col11,#T_4cc5c7b6_94b7_11ef_bdbb_96000040dfb6row6_col7,#T_4cc5c7b6_94b7_11ef_bdbb_96000040dfb6row6_col8,#T_4cc5c7b6_94b7_11ef_bdbb_96000040dfb6row6_col9,#T_4cc5c7b6_94b7_11ef_bdbb_96000040dfb6row6_col10,#T_4cc5c7b6_94b7_11ef_bdbb_96000040dfb6row6_col11,#T_4cc5c7b6_94b7_11ef_bdbb_96000040dfb6row7_col6,#T_4cc5c7b6_94b7_11ef_bdbb_96000040dfb6row7_col7,#T_4cc5c7b6_94b7_11ef_bdbb_96000040dfb6row7_col8,#T_4cc5c7b6_94b7_11ef_bdbb_96000040dfb6row7_col9,#T_4cc5c7b6_94b7_11ef_bdbb_96000040dfb6row7_col10,#T_4cc5c7b6_94b7_11ef_bdbb_96000040dfb6row7_col11,#T_4cc5c7b6_94b7_11ef_bdbb_96000040dfb6row8_col5,#T_4cc5c7b6_94b7_11ef_bdbb_96000040dfb6row8_col6,#T_4cc5c7b6_94b7_11ef_bdbb_96000040dfb6row8_col7,#T_4cc5c7b6_94b7_11ef_bdbb_96000040dfb6row8_col8,#T_4cc5c7b6_94b7_11ef_bdbb_96000040dfb6row8_col9,#T_4cc5c7b6_94b7_11ef_bdbb_96000040dfb6row8_col10,#T_4cc5c7b6_94b7_11ef_bdbb_96000040dfb6row8_col11,#T_4cc5c7b6_94b7_11ef_bdbb_96000040dfb6row9_col4,#T_4cc5c7b6_94b7_11ef_bdbb_96000040dfb6row9_col5,#T_4cc5c7b6_94b7_11ef_bdbb_96000040dfb6row9_col6,#T_4cc5c7b6_94b7_11ef_bdbb_96000040dfb6row9_col7,#T_4cc5c7b6_94b7_11ef_bdbb_96000040dfb6row9_col8,#T_4cc5c7b6_94b7_11ef_bdbb_96000040dfb6row9_col9,#T_4cc5c7b6_94b7_11ef_bdbb_96000040dfb6row9_col10,#T_4cc5c7b6_94b7_11ef_bdbb_96000040dfb6row9_col11,#T_4cc5c7b6_94b7_11ef_bdbb_96000040dfb6row10_col3,#T_4cc5c7b6_94b7_11ef_bdbb_96000040dfb6row10_col4,#T_4cc5c7b6_94b7_11ef_bdbb_96000040dfb6row10_col5,#T_4cc5c7b6_94b7_11ef_bdbb_96000040dfb6row10_col6,#T_4cc5c7b6_94b7_11ef_bdbb_96000040dfb6row10_col7,#T_4cc5c7b6_94b7_11ef_bdbb_96000040dfb6row10_col8,#T_4cc5c7b6_94b7_11ef_bdbb_96000040dfb6row10_col9,#T_4cc5c7b6_94b7_11ef_bdbb_96000040dfb6row10_col10,#T_4cc5c7b6_94b7_11ef_bdbb_96000040dfb6row10_col11,#T_4cc5c7b6_94b7_11ef_bdbb_96000040dfb6row11_col2,#T_4cc5c7b6_94b7_11ef_bdbb_96000040dfb6row11_col3,#T_4cc5c7b6_94b7_11ef_bdbb_96000040dfb6row11_col4,#T_4cc5c7b6_94b7_11ef_bdbb_96000040dfb6row11_col5,#T_4cc5c7b6_94b7_11ef_bdbb_96000040dfb6row11_col6,#T_4cc5c7b6_94b7_11ef_bdbb_96000040dfb6row11_col7,#T_4cc5c7b6_94b7_11ef_bdbb_96000040dfb6row11_col8,#T_4cc5c7b6_94b7_11ef_bdbb_96000040dfb6row11_col9,#T_4cc5c7b6_94b7_11ef_bdbb_96000040dfb6row11_col10,#T_4cc5c7b6_94b7_11ef_bdbb_96000040dfb6row11_col11,#T_4cc5c7b6_94b7_11ef_bdbb_96000040dfb6row12_col1,#T_4cc5c7b6_94b7_11ef_bdbb_96000040dfb6row12_col2,#T_4cc5c7b6_94b7_11ef_bdbb_96000040dfb6row12_col3,#T_4cc5c7b6_94b7_11ef_bdbb_96000040dfb6row12_col4,#T_4cc5c7b6_94b7_11ef_bdbb_96000040dfb6row12_col5,#T_4cc5c7b6_94b7_11ef_bdbb_96000040dfb6row12_col6,#T_4cc5c7b6_94b7_11ef_bdbb_96000040dfb6row12_col7,#T_4cc5c7b6_94b7_11ef_bdbb_96000040dfb6row12_col8,#T_4cc5c7b6_94b7_11ef_bdbb_96000040dfb6row12_col9,#T_4cc5c7b6_94b7_11ef_bdbb_96000040dfb6row12_col10,#T_4cc5c7b6_94b7_11ef_bdbb_96000040dfb6row12_col11,#T_4cc5c7b6_94b7_11ef_bdbb_96000040dfb6row13_col0,#T_4cc5c7b6_94b7_11ef_bdbb_96000040dfb6row13_col1,#T_4cc5c7b6_94b7_11ef_bdbb_96000040dfb6row13_col2,#T_4cc5c7b6_94b7_11ef_bdbb_96000040dfb6row13_col3,#T_4cc5c7b6_94b7_11ef_bdbb_96000040dfb6row13_col4,#T_4cc5c7b6_94b7_11ef_bdbb_96000040dfb6row13_col5,#T_4cc5c7b6_94b7_11ef_bdbb_96000040dfb6row13_col6,#T_4cc5c7b6_94b7_11ef_bdbb_96000040dfb6row13_col7,#T_4cc5c7b6_94b7_11ef_bdbb_96000040dfb6row13_col8,#T_4cc5c7b6_94b7_11ef_bdbb_96000040dfb6row13_col9,#T_4cc5c7b6_94b7_11ef_bdbb_96000040dfb6row13_col10,#T_4cc5c7b6_94b7_11ef_bdbb_96000040dfb6row13_col11{\n",
       "            background-color:  #000000;\n",
       "            color:  #f1f1f1;\n",
       "            background-color:  white;\n",
       "        }#T_4cc5c7b6_94b7_11ef_bdbb_96000040dfb6row3_col0{\n",
       "            background-color:  #46c06f;\n",
       "            color:  #000000;\n",
       "        }#T_4cc5c7b6_94b7_11ef_bdbb_96000040dfb6row3_col1{\n",
       "            background-color:  #44bf70;\n",
       "            color:  #000000;\n",
       "        }#T_4cc5c7b6_94b7_11ef_bdbb_96000040dfb6row3_col2{\n",
       "            background-color:  #70cf57;\n",
       "            color:  #000000;\n",
       "        }#T_4cc5c7b6_94b7_11ef_bdbb_96000040dfb6row3_col4,#T_4cc5c7b6_94b7_11ef_bdbb_96000040dfb6row6_col2{\n",
       "            background-color:  #d0e11c;\n",
       "            color:  #000000;\n",
       "        }#T_4cc5c7b6_94b7_11ef_bdbb_96000040dfb6row3_col5{\n",
       "            background-color:  #89d548;\n",
       "            color:  #000000;\n",
       "        }#T_4cc5c7b6_94b7_11ef_bdbb_96000040dfb6row3_col6{\n",
       "            background-color:  #287d8e;\n",
       "            color:  #000000;\n",
       "        }#T_4cc5c7b6_94b7_11ef_bdbb_96000040dfb6row3_col8{\n",
       "            background-color:  #c5e021;\n",
       "            color:  #000000;\n",
       "        }#T_4cc5c7b6_94b7_11ef_bdbb_96000040dfb6row4_col0{\n",
       "            background-color:  #a2da37;\n",
       "            color:  #000000;\n",
       "        }#T_4cc5c7b6_94b7_11ef_bdbb_96000040dfb6row4_col1{\n",
       "            background-color:  #1f9a8a;\n",
       "            color:  #000000;\n",
       "        }#T_4cc5c7b6_94b7_11ef_bdbb_96000040dfb6row4_col2{\n",
       "            background-color:  #b2dd2d;\n",
       "            color:  #000000;\n",
       "        }#T_4cc5c7b6_94b7_11ef_bdbb_96000040dfb6row4_col3{\n",
       "            background-color:  #4cc26c;\n",
       "            color:  #000000;\n",
       "        }#T_4cc5c7b6_94b7_11ef_bdbb_96000040dfb6row4_col4,#T_4cc5c7b6_94b7_11ef_bdbb_96000040dfb6row5_col2{\n",
       "            background-color:  #c0df25;\n",
       "            color:  #000000;\n",
       "        }#T_4cc5c7b6_94b7_11ef_bdbb_96000040dfb6row4_col6{\n",
       "            background-color:  #73d056;\n",
       "            color:  #000000;\n",
       "        }#T_4cc5c7b6_94b7_11ef_bdbb_96000040dfb6row4_col7{\n",
       "            background-color:  #48c16e;\n",
       "            color:  #000000;\n",
       "        }#T_4cc5c7b6_94b7_11ef_bdbb_96000040dfb6row5_col4,#T_4cc5c7b6_94b7_11ef_bdbb_96000040dfb6row5_col6{\n",
       "            background-color:  #25ac82;\n",
       "            color:  #000000;\n",
       "        }#T_4cc5c7b6_94b7_11ef_bdbb_96000040dfb6row5_col5,#T_4cc5c7b6_94b7_11ef_bdbb_96000040dfb6row9_col2{\n",
       "            background-color:  #ece51b;\n",
       "            color:  #000000;\n",
       "        }#T_4cc5c7b6_94b7_11ef_bdbb_96000040dfb6row6_col0{\n",
       "            background-color:  #34b679;\n",
       "            color:  #000000;\n",
       "        }#T_4cc5c7b6_94b7_11ef_bdbb_96000040dfb6row6_col1{\n",
       "            background-color:  #81d34d;\n",
       "            color:  #000000;\n",
       "        }#T_4cc5c7b6_94b7_11ef_bdbb_96000040dfb6row6_col3{\n",
       "            background-color:  #23888e;\n",
       "            color:  #000000;\n",
       "        }#T_4cc5c7b6_94b7_11ef_bdbb_96000040dfb6row6_col5{\n",
       "            background-color:  #f8e621;\n",
       "            color:  #000000;\n",
       "        }#T_4cc5c7b6_94b7_11ef_bdbb_96000040dfb6row7_col0{\n",
       "            background-color:  #20928c;\n",
       "            color:  #000000;\n",
       "        }#T_4cc5c7b6_94b7_11ef_bdbb_96000040dfb6row7_col2{\n",
       "            background-color:  #bddf26;\n",
       "            color:  #000000;\n",
       "        }#T_4cc5c7b6_94b7_11ef_bdbb_96000040dfb6row7_col3{\n",
       "            background-color:  #6ccd5a;\n",
       "            color:  #000000;\n",
       "        }#T_4cc5c7b6_94b7_11ef_bdbb_96000040dfb6row7_col4{\n",
       "            background-color:  #90d743;\n",
       "            color:  #000000;\n",
       "        }#T_4cc5c7b6_94b7_11ef_bdbb_96000040dfb6row8_col0{\n",
       "            background-color:  #32b67a;\n",
       "            color:  #000000;\n",
       "        }#T_4cc5c7b6_94b7_11ef_bdbb_96000040dfb6row8_col2{\n",
       "            background-color:  #69cd5b;\n",
       "            color:  #000000;\n",
       "        }#T_4cc5c7b6_94b7_11ef_bdbb_96000040dfb6row8_col3{\n",
       "            background-color:  #3aba76;\n",
       "            color:  #000000;\n",
       "        }#T_4cc5c7b6_94b7_11ef_bdbb_96000040dfb6row9_col0{\n",
       "            background-color:  #26ad81;\n",
       "            color:  #000000;\n",
       "        }#T_4cc5c7b6_94b7_11ef_bdbb_96000040dfb6row9_col1{\n",
       "            background-color:  #2e6f8e;\n",
       "            color:  #f1f1f1;\n",
       "        }#T_4cc5c7b6_94b7_11ef_bdbb_96000040dfb6row10_col1{\n",
       "            background-color:  #a8db34;\n",
       "            color:  #000000;\n",
       "        }#T_4cc5c7b6_94b7_11ef_bdbb_96000040dfb6row11_col0{\n",
       "            background-color:  #31b57b;\n",
       "            color:  #000000;\n",
       "        }</style><table id=\"T_4cc5c7b6_94b7_11ef_bdbb_96000040dfb6\" ><caption>User retention by cohort</caption><thead>    <tr>        <th class=\"index_name level0\" >day_number</th>        <th class=\"col_heading level0 col0\" >1</th>        <th class=\"col_heading level0 col1\" >2</th>        <th class=\"col_heading level0 col2\" >3</th>        <th class=\"col_heading level0 col3\" >4</th>        <th class=\"col_heading level0 col4\" >5</th>        <th class=\"col_heading level0 col5\" >6</th>        <th class=\"col_heading level0 col6\" >7</th>        <th class=\"col_heading level0 col7\" >8</th>        <th class=\"col_heading level0 col8\" >9</th>        <th class=\"col_heading level0 col9\" >10</th>        <th class=\"col_heading level0 col10\" >11</th>        <th class=\"col_heading level0 col11\" >12</th>        <th class=\"col_heading level0 col12\" >13</th>    </tr>    <tr>        <th class=\"index_name level0\" >reg_ts</th>        <th class=\"blank\" ></th>        <th class=\"blank\" ></th>        <th class=\"blank\" ></th>        <th class=\"blank\" ></th>        <th class=\"blank\" ></th>        <th class=\"blank\" ></th>        <th class=\"blank\" ></th>        <th class=\"blank\" ></th>        <th class=\"blank\" ></th>        <th class=\"blank\" ></th>        <th class=\"blank\" ></th>        <th class=\"blank\" ></th>        <th class=\"blank\" ></th>    </tr></thead><tbody>\n",
       "                <tr>\n",
       "                        <th id=\"T_4cc5c7b6_94b7_11ef_bdbb_96000040dfb6level0_row0\" class=\"row_heading level0 row0\" >2020-09-10</th>\n",
       "                        <td id=\"T_4cc5c7b6_94b7_11ef_bdbb_96000040dfb6row0_col0\" class=\"data row0 col0\" >2.05%</td>\n",
       "                        <td id=\"T_4cc5c7b6_94b7_11ef_bdbb_96000040dfb6row0_col1\" class=\"data row0 col1\" >4.29%</td>\n",
       "                        <td id=\"T_4cc5c7b6_94b7_11ef_bdbb_96000040dfb6row0_col2\" class=\"data row0 col2\" >4.79%</td>\n",
       "                        <td id=\"T_4cc5c7b6_94b7_11ef_bdbb_96000040dfb6row0_col3\" class=\"data row0 col3\" >4.23%</td>\n",
       "                        <td id=\"T_4cc5c7b6_94b7_11ef_bdbb_96000040dfb6row0_col4\" class=\"data row0 col4\" >6.77%</td>\n",
       "                        <td id=\"T_4cc5c7b6_94b7_11ef_bdbb_96000040dfb6row0_col5\" class=\"data row0 col5\" >6.28%</td>\n",
       "                        <td id=\"T_4cc5c7b6_94b7_11ef_bdbb_96000040dfb6row0_col6\" class=\"data row0 col6\" >7.09%</td>\n",
       "                        <td id=\"T_4cc5c7b6_94b7_11ef_bdbb_96000040dfb6row0_col7\" class=\"data row0 col7\" >4.85%</td>\n",
       "                        <td id=\"T_4cc5c7b6_94b7_11ef_bdbb_96000040dfb6row0_col8\" class=\"data row0 col8\" >4.54%</td>\n",
       "                        <td id=\"T_4cc5c7b6_94b7_11ef_bdbb_96000040dfb6row0_col9\" class=\"data row0 col9\" >5.66%</td>\n",
       "                        <td id=\"T_4cc5c7b6_94b7_11ef_bdbb_96000040dfb6row0_col10\" class=\"data row0 col10\" >4.72%</td>\n",
       "                        <td id=\"T_4cc5c7b6_94b7_11ef_bdbb_96000040dfb6row0_col11\" class=\"data row0 col11\" >5.22%</td>\n",
       "                        <td id=\"T_4cc5c7b6_94b7_11ef_bdbb_96000040dfb6row0_col12\" class=\"data row0 col12\" >3.60%</td>\n",
       "            </tr>\n",
       "            <tr>\n",
       "                        <th id=\"T_4cc5c7b6_94b7_11ef_bdbb_96000040dfb6level0_row1\" class=\"row_heading level0 row1\" >2020-09-11</th>\n",
       "                        <td id=\"T_4cc5c7b6_94b7_11ef_bdbb_96000040dfb6row1_col0\" class=\"data row1 col0\" >1.30%</td>\n",
       "                        <td id=\"T_4cc5c7b6_94b7_11ef_bdbb_96000040dfb6row1_col1\" class=\"data row1 col1\" >4.03%</td>\n",
       "                        <td id=\"T_4cc5c7b6_94b7_11ef_bdbb_96000040dfb6row1_col2\" class=\"data row1 col2\" >4.53%</td>\n",
       "                        <td id=\"T_4cc5c7b6_94b7_11ef_bdbb_96000040dfb6row1_col3\" class=\"data row1 col3\" >5.65%</td>\n",
       "                        <td id=\"T_4cc5c7b6_94b7_11ef_bdbb_96000040dfb6row1_col4\" class=\"data row1 col4\" >5.71%</td>\n",
       "                        <td id=\"T_4cc5c7b6_94b7_11ef_bdbb_96000040dfb6row1_col5\" class=\"data row1 col5\" >6.70%</td>\n",
       "                        <td id=\"T_4cc5c7b6_94b7_11ef_bdbb_96000040dfb6row1_col6\" class=\"data row1 col6\" >6.33%</td>\n",
       "                        <td id=\"T_4cc5c7b6_94b7_11ef_bdbb_96000040dfb6row1_col7\" class=\"data row1 col7\" >4.40%</td>\n",
       "                        <td id=\"T_4cc5c7b6_94b7_11ef_bdbb_96000040dfb6row1_col8\" class=\"data row1 col8\" >4.65%</td>\n",
       "                        <td id=\"T_4cc5c7b6_94b7_11ef_bdbb_96000040dfb6row1_col9\" class=\"data row1 col9\" >5.40%</td>\n",
       "                        <td id=\"T_4cc5c7b6_94b7_11ef_bdbb_96000040dfb6row1_col10\" class=\"data row1 col10\" >5.33%</td>\n",
       "                        <td id=\"T_4cc5c7b6_94b7_11ef_bdbb_96000040dfb6row1_col11\" class=\"data row1 col11\" >3.29%</td>\n",
       "                        <td id=\"T_4cc5c7b6_94b7_11ef_bdbb_96000040dfb6row1_col12\" class=\"data row1 col12\" ></td>\n",
       "            </tr>\n",
       "            <tr>\n",
       "                        <th id=\"T_4cc5c7b6_94b7_11ef_bdbb_96000040dfb6level0_row2\" class=\"row_heading level0 row2\" >2020-09-12</th>\n",
       "                        <td id=\"T_4cc5c7b6_94b7_11ef_bdbb_96000040dfb6row2_col0\" class=\"data row2 col0\" >1.92%</td>\n",
       "                        <td id=\"T_4cc5c7b6_94b7_11ef_bdbb_96000040dfb6row2_col1\" class=\"data row2 col1\" >3.84%</td>\n",
       "                        <td id=\"T_4cc5c7b6_94b7_11ef_bdbb_96000040dfb6row2_col2\" class=\"data row2 col2\" >4.71%</td>\n",
       "                        <td id=\"T_4cc5c7b6_94b7_11ef_bdbb_96000040dfb6row2_col3\" class=\"data row2 col3\" >4.65%</td>\n",
       "                        <td id=\"T_4cc5c7b6_94b7_11ef_bdbb_96000040dfb6row2_col4\" class=\"data row2 col4\" >6.07%</td>\n",
       "                        <td id=\"T_4cc5c7b6_94b7_11ef_bdbb_96000040dfb6row2_col5\" class=\"data row2 col5\" >6.57%</td>\n",
       "                        <td id=\"T_4cc5c7b6_94b7_11ef_bdbb_96000040dfb6row2_col6\" class=\"data row2 col6\" >5.76%</td>\n",
       "                        <td id=\"T_4cc5c7b6_94b7_11ef_bdbb_96000040dfb6row2_col7\" class=\"data row2 col7\" >5.27%</td>\n",
       "                        <td id=\"T_4cc5c7b6_94b7_11ef_bdbb_96000040dfb6row2_col8\" class=\"data row2 col8\" >5.14%</td>\n",
       "                        <td id=\"T_4cc5c7b6_94b7_11ef_bdbb_96000040dfb6row2_col9\" class=\"data row2 col9\" >5.70%</td>\n",
       "                        <td id=\"T_4cc5c7b6_94b7_11ef_bdbb_96000040dfb6row2_col10\" class=\"data row2 col10\" >2.54%</td>\n",
       "                        <td id=\"T_4cc5c7b6_94b7_11ef_bdbb_96000040dfb6row2_col11\" class=\"data row2 col11\" ></td>\n",
       "                        <td id=\"T_4cc5c7b6_94b7_11ef_bdbb_96000040dfb6row2_col12\" class=\"data row2 col12\" ></td>\n",
       "            </tr>\n",
       "            <tr>\n",
       "                        <th id=\"T_4cc5c7b6_94b7_11ef_bdbb_96000040dfb6level0_row3\" class=\"row_heading level0 row3\" >2020-09-13</th>\n",
       "                        <td id=\"T_4cc5c7b6_94b7_11ef_bdbb_96000040dfb6row3_col0\" class=\"data row3 col0\" >1.98%</td>\n",
       "                        <td id=\"T_4cc5c7b6_94b7_11ef_bdbb_96000040dfb6row3_col1\" class=\"data row3 col1\" >4.08%</td>\n",
       "                        <td id=\"T_4cc5c7b6_94b7_11ef_bdbb_96000040dfb6row3_col2\" class=\"data row3 col2\" >4.26%</td>\n",
       "                        <td id=\"T_4cc5c7b6_94b7_11ef_bdbb_96000040dfb6row3_col3\" class=\"data row3 col3\" >5.13%</td>\n",
       "                        <td id=\"T_4cc5c7b6_94b7_11ef_bdbb_96000040dfb6row3_col4\" class=\"data row3 col4\" >6.55%</td>\n",
       "                        <td id=\"T_4cc5c7b6_94b7_11ef_bdbb_96000040dfb6row3_col5\" class=\"data row3 col5\" >6.49%</td>\n",
       "                        <td id=\"T_4cc5c7b6_94b7_11ef_bdbb_96000040dfb6row3_col6\" class=\"data row3 col6\" >4.94%</td>\n",
       "                        <td id=\"T_4cc5c7b6_94b7_11ef_bdbb_96000040dfb6row3_col7\" class=\"data row3 col7\" >4.70%</td>\n",
       "                        <td id=\"T_4cc5c7b6_94b7_11ef_bdbb_96000040dfb6row3_col8\" class=\"data row3 col8\" >4.94%</td>\n",
       "                        <td id=\"T_4cc5c7b6_94b7_11ef_bdbb_96000040dfb6row3_col9\" class=\"data row3 col9\" >3.58%</td>\n",
       "                        <td id=\"T_4cc5c7b6_94b7_11ef_bdbb_96000040dfb6row3_col10\" class=\"data row3 col10\" ></td>\n",
       "                        <td id=\"T_4cc5c7b6_94b7_11ef_bdbb_96000040dfb6row3_col11\" class=\"data row3 col11\" ></td>\n",
       "                        <td id=\"T_4cc5c7b6_94b7_11ef_bdbb_96000040dfb6row3_col12\" class=\"data row3 col12\" ></td>\n",
       "            </tr>\n",
       "            <tr>\n",
       "                        <th id=\"T_4cc5c7b6_94b7_11ef_bdbb_96000040dfb6level0_row4\" class=\"row_heading level0 row4\" >2020-09-14</th>\n",
       "                        <td id=\"T_4cc5c7b6_94b7_11ef_bdbb_96000040dfb6row4_col0\" class=\"data row4 col0\" >2.22%</td>\n",
       "                        <td id=\"T_4cc5c7b6_94b7_11ef_bdbb_96000040dfb6row4_col1\" class=\"data row4 col1\" >3.83%</td>\n",
       "                        <td id=\"T_4cc5c7b6_94b7_11ef_bdbb_96000040dfb6row4_col2\" class=\"data row4 col2\" >4.51%</td>\n",
       "                        <td id=\"T_4cc5c7b6_94b7_11ef_bdbb_96000040dfb6row4_col3\" class=\"data row4 col3\" >5.31%</td>\n",
       "                        <td id=\"T_4cc5c7b6_94b7_11ef_bdbb_96000040dfb6row4_col4\" class=\"data row4 col4\" >6.49%</td>\n",
       "                        <td id=\"T_4cc5c7b6_94b7_11ef_bdbb_96000040dfb6row4_col5\" class=\"data row4 col5\" >6.98%</td>\n",
       "                        <td id=\"T_4cc5c7b6_94b7_11ef_bdbb_96000040dfb6row4_col6\" class=\"data row4 col6\" >6.30%</td>\n",
       "                        <td id=\"T_4cc5c7b6_94b7_11ef_bdbb_96000040dfb6row4_col7\" class=\"data row4 col7\" >4.45%</td>\n",
       "                        <td id=\"T_4cc5c7b6_94b7_11ef_bdbb_96000040dfb6row4_col8\" class=\"data row4 col8\" >2.90%</td>\n",
       "                        <td id=\"T_4cc5c7b6_94b7_11ef_bdbb_96000040dfb6row4_col9\" class=\"data row4 col9\" ></td>\n",
       "                        <td id=\"T_4cc5c7b6_94b7_11ef_bdbb_96000040dfb6row4_col10\" class=\"data row4 col10\" ></td>\n",
       "                        <td id=\"T_4cc5c7b6_94b7_11ef_bdbb_96000040dfb6row4_col11\" class=\"data row4 col11\" ></td>\n",
       "                        <td id=\"T_4cc5c7b6_94b7_11ef_bdbb_96000040dfb6row4_col12\" class=\"data row4 col12\" ></td>\n",
       "            </tr>\n",
       "            <tr>\n",
       "                        <th id=\"T_4cc5c7b6_94b7_11ef_bdbb_96000040dfb6level0_row5\" class=\"row_heading level0 row5\" >2020-09-15</th>\n",
       "                        <td id=\"T_4cc5c7b6_94b7_11ef_bdbb_96000040dfb6row5_col0\" class=\"data row5 col0\" >2.22%</td>\n",
       "                        <td id=\"T_4cc5c7b6_94b7_11ef_bdbb_96000040dfb6row5_col1\" class=\"data row5 col1\" >4.07%</td>\n",
       "                        <td id=\"T_4cc5c7b6_94b7_11ef_bdbb_96000040dfb6row5_col2\" class=\"data row5 col2\" >4.56%</td>\n",
       "                        <td id=\"T_4cc5c7b6_94b7_11ef_bdbb_96000040dfb6row5_col3\" class=\"data row5 col3\" >6.04%</td>\n",
       "                        <td id=\"T_4cc5c7b6_94b7_11ef_bdbb_96000040dfb6row5_col4\" class=\"data row5 col4\" >5.61%</td>\n",
       "                        <td id=\"T_4cc5c7b6_94b7_11ef_bdbb_96000040dfb6row5_col5\" class=\"data row5 col5\" >6.90%</td>\n",
       "                        <td id=\"T_4cc5c7b6_94b7_11ef_bdbb_96000040dfb6row5_col6\" class=\"data row5 col6\" >5.67%</td>\n",
       "                        <td id=\"T_4cc5c7b6_94b7_11ef_bdbb_96000040dfb6row5_col7\" class=\"data row5 col7\" >2.46%</td>\n",
       "                        <td id=\"T_4cc5c7b6_94b7_11ef_bdbb_96000040dfb6row5_col8\" class=\"data row5 col8\" ></td>\n",
       "                        <td id=\"T_4cc5c7b6_94b7_11ef_bdbb_96000040dfb6row5_col9\" class=\"data row5 col9\" ></td>\n",
       "                        <td id=\"T_4cc5c7b6_94b7_11ef_bdbb_96000040dfb6row5_col10\" class=\"data row5 col10\" ></td>\n",
       "                        <td id=\"T_4cc5c7b6_94b7_11ef_bdbb_96000040dfb6row5_col11\" class=\"data row5 col11\" ></td>\n",
       "                        <td id=\"T_4cc5c7b6_94b7_11ef_bdbb_96000040dfb6row5_col12\" class=\"data row5 col12\" ></td>\n",
       "            </tr>\n",
       "            <tr>\n",
       "                        <th id=\"T_4cc5c7b6_94b7_11ef_bdbb_96000040dfb6level0_row6\" class=\"row_heading level0 row6\" >2020-09-16</th>\n",
       "                        <td id=\"T_4cc5c7b6_94b7_11ef_bdbb_96000040dfb6row6_col0\" class=\"data row6 col0\" >1.91%</td>\n",
       "                        <td id=\"T_4cc5c7b6_94b7_11ef_bdbb_96000040dfb6row6_col1\" class=\"data row6 col1\" >4.25%</td>\n",
       "                        <td id=\"T_4cc5c7b6_94b7_11ef_bdbb_96000040dfb6row6_col2\" class=\"data row6 col2\" >4.62%</td>\n",
       "                        <td id=\"T_4cc5c7b6_94b7_11ef_bdbb_96000040dfb6row6_col3\" class=\"data row6 col3\" >4.68%</td>\n",
       "                        <td id=\"T_4cc5c7b6_94b7_11ef_bdbb_96000040dfb6row6_col4\" class=\"data row6 col4\" >6.77%</td>\n",
       "                        <td id=\"T_4cc5c7b6_94b7_11ef_bdbb_96000040dfb6row6_col5\" class=\"data row6 col5\" >6.95%</td>\n",
       "                        <td id=\"T_4cc5c7b6_94b7_11ef_bdbb_96000040dfb6row6_col6\" class=\"data row6 col6\" >3.38%</td>\n",
       "                        <td id=\"T_4cc5c7b6_94b7_11ef_bdbb_96000040dfb6row6_col7\" class=\"data row6 col7\" ></td>\n",
       "                        <td id=\"T_4cc5c7b6_94b7_11ef_bdbb_96000040dfb6row6_col8\" class=\"data row6 col8\" ></td>\n",
       "                        <td id=\"T_4cc5c7b6_94b7_11ef_bdbb_96000040dfb6row6_col9\" class=\"data row6 col9\" ></td>\n",
       "                        <td id=\"T_4cc5c7b6_94b7_11ef_bdbb_96000040dfb6row6_col10\" class=\"data row6 col10\" ></td>\n",
       "                        <td id=\"T_4cc5c7b6_94b7_11ef_bdbb_96000040dfb6row6_col11\" class=\"data row6 col11\" ></td>\n",
       "                        <td id=\"T_4cc5c7b6_94b7_11ef_bdbb_96000040dfb6row6_col12\" class=\"data row6 col12\" ></td>\n",
       "            </tr>\n",
       "            <tr>\n",
       "                        <th id=\"T_4cc5c7b6_94b7_11ef_bdbb_96000040dfb6level0_row7\" class=\"row_heading level0 row7\" >2020-09-17</th>\n",
       "                        <td id=\"T_4cc5c7b6_94b7_11ef_bdbb_96000040dfb6row7_col0\" class=\"data row7 col0\" >1.66%</td>\n",
       "                        <td id=\"T_4cc5c7b6_94b7_11ef_bdbb_96000040dfb6row7_col1\" class=\"data row7 col1\" >4.30%</td>\n",
       "                        <td id=\"T_4cc5c7b6_94b7_11ef_bdbb_96000040dfb6row7_col2\" class=\"data row7 col2\" >4.55%</td>\n",
       "                        <td id=\"T_4cc5c7b6_94b7_11ef_bdbb_96000040dfb6row7_col3\" class=\"data row7 col3\" >5.47%</td>\n",
       "                        <td id=\"T_4cc5c7b6_94b7_11ef_bdbb_96000040dfb6row7_col4\" class=\"data row7 col4\" >6.27%</td>\n",
       "                        <td id=\"T_4cc5c7b6_94b7_11ef_bdbb_96000040dfb6row7_col5\" class=\"data row7 col5\" >4.24%</td>\n",
       "                        <td id=\"T_4cc5c7b6_94b7_11ef_bdbb_96000040dfb6row7_col6\" class=\"data row7 col6\" ></td>\n",
       "                        <td id=\"T_4cc5c7b6_94b7_11ef_bdbb_96000040dfb6row7_col7\" class=\"data row7 col7\" ></td>\n",
       "                        <td id=\"T_4cc5c7b6_94b7_11ef_bdbb_96000040dfb6row7_col8\" class=\"data row7 col8\" ></td>\n",
       "                        <td id=\"T_4cc5c7b6_94b7_11ef_bdbb_96000040dfb6row7_col9\" class=\"data row7 col9\" ></td>\n",
       "                        <td id=\"T_4cc5c7b6_94b7_11ef_bdbb_96000040dfb6row7_col10\" class=\"data row7 col10\" ></td>\n",
       "                        <td id=\"T_4cc5c7b6_94b7_11ef_bdbb_96000040dfb6row7_col11\" class=\"data row7 col11\" ></td>\n",
       "                        <td id=\"T_4cc5c7b6_94b7_11ef_bdbb_96000040dfb6row7_col12\" class=\"data row7 col12\" ></td>\n",
       "            </tr>\n",
       "            <tr>\n",
       "                        <th id=\"T_4cc5c7b6_94b7_11ef_bdbb_96000040dfb6level0_row8\" class=\"row_heading level0 row8\" >2020-09-18</th>\n",
       "                        <td id=\"T_4cc5c7b6_94b7_11ef_bdbb_96000040dfb6row8_col0\" class=\"data row8 col0\" >1.90%</td>\n",
       "                        <td id=\"T_4cc5c7b6_94b7_11ef_bdbb_96000040dfb6row8_col1\" class=\"data row8 col1\" >4.54%</td>\n",
       "                        <td id=\"T_4cc5c7b6_94b7_11ef_bdbb_96000040dfb6row8_col2\" class=\"data row8 col2\" >4.23%</td>\n",
       "                        <td id=\"T_4cc5c7b6_94b7_11ef_bdbb_96000040dfb6row8_col3\" class=\"data row8 col3\" >5.21%</td>\n",
       "                        <td id=\"T_4cc5c7b6_94b7_11ef_bdbb_96000040dfb6row8_col4\" class=\"data row8 col4\" >3.74%</td>\n",
       "                        <td id=\"T_4cc5c7b6_94b7_11ef_bdbb_96000040dfb6row8_col5\" class=\"data row8 col5\" ></td>\n",
       "                        <td id=\"T_4cc5c7b6_94b7_11ef_bdbb_96000040dfb6row8_col6\" class=\"data row8 col6\" ></td>\n",
       "                        <td id=\"T_4cc5c7b6_94b7_11ef_bdbb_96000040dfb6row8_col7\" class=\"data row8 col7\" ></td>\n",
       "                        <td id=\"T_4cc5c7b6_94b7_11ef_bdbb_96000040dfb6row8_col8\" class=\"data row8 col8\" ></td>\n",
       "                        <td id=\"T_4cc5c7b6_94b7_11ef_bdbb_96000040dfb6row8_col9\" class=\"data row8 col9\" ></td>\n",
       "                        <td id=\"T_4cc5c7b6_94b7_11ef_bdbb_96000040dfb6row8_col10\" class=\"data row8 col10\" ></td>\n",
       "                        <td id=\"T_4cc5c7b6_94b7_11ef_bdbb_96000040dfb6row8_col11\" class=\"data row8 col11\" ></td>\n",
       "                        <td id=\"T_4cc5c7b6_94b7_11ef_bdbb_96000040dfb6row8_col12\" class=\"data row8 col12\" ></td>\n",
       "            </tr>\n",
       "            <tr>\n",
       "                        <th id=\"T_4cc5c7b6_94b7_11ef_bdbb_96000040dfb6level0_row9\" class=\"row_heading level0 row9\" >2020-09-19</th>\n",
       "                        <td id=\"T_4cc5c7b6_94b7_11ef_bdbb_96000040dfb6row9_col0\" class=\"data row9 col0\" >1.84%</td>\n",
       "                        <td id=\"T_4cc5c7b6_94b7_11ef_bdbb_96000040dfb6row9_col1\" class=\"data row9 col1\" >3.55%</td>\n",
       "                        <td id=\"T_4cc5c7b6_94b7_11ef_bdbb_96000040dfb6row9_col2\" class=\"data row9 col2\" >4.71%</td>\n",
       "                        <td id=\"T_4cc5c7b6_94b7_11ef_bdbb_96000040dfb6row9_col3\" class=\"data row9 col3\" >3.49%</td>\n",
       "                        <td id=\"T_4cc5c7b6_94b7_11ef_bdbb_96000040dfb6row9_col4\" class=\"data row9 col4\" ></td>\n",
       "                        <td id=\"T_4cc5c7b6_94b7_11ef_bdbb_96000040dfb6row9_col5\" class=\"data row9 col5\" ></td>\n",
       "                        <td id=\"T_4cc5c7b6_94b7_11ef_bdbb_96000040dfb6row9_col6\" class=\"data row9 col6\" ></td>\n",
       "                        <td id=\"T_4cc5c7b6_94b7_11ef_bdbb_96000040dfb6row9_col7\" class=\"data row9 col7\" ></td>\n",
       "                        <td id=\"T_4cc5c7b6_94b7_11ef_bdbb_96000040dfb6row9_col8\" class=\"data row9 col8\" ></td>\n",
       "                        <td id=\"T_4cc5c7b6_94b7_11ef_bdbb_96000040dfb6row9_col9\" class=\"data row9 col9\" ></td>\n",
       "                        <td id=\"T_4cc5c7b6_94b7_11ef_bdbb_96000040dfb6row9_col10\" class=\"data row9 col10\" ></td>\n",
       "                        <td id=\"T_4cc5c7b6_94b7_11ef_bdbb_96000040dfb6row9_col11\" class=\"data row9 col11\" ></td>\n",
       "                        <td id=\"T_4cc5c7b6_94b7_11ef_bdbb_96000040dfb6row9_col12\" class=\"data row9 col12\" ></td>\n",
       "            </tr>\n",
       "            <tr>\n",
       "                        <th id=\"T_4cc5c7b6_94b7_11ef_bdbb_96000040dfb6level0_row10\" class=\"row_heading level0 row10\" >2020-09-20</th>\n",
       "                        <td id=\"T_4cc5c7b6_94b7_11ef_bdbb_96000040dfb6row10_col0\" class=\"data row10 col0\" >2.44%</td>\n",
       "                        <td id=\"T_4cc5c7b6_94b7_11ef_bdbb_96000040dfb6row10_col1\" class=\"data row10 col1\" >4.34%</td>\n",
       "                        <td id=\"T_4cc5c7b6_94b7_11ef_bdbb_96000040dfb6row10_col2\" class=\"data row10 col2\" >2.38%</td>\n",
       "                        <td id=\"T_4cc5c7b6_94b7_11ef_bdbb_96000040dfb6row10_col3\" class=\"data row10 col3\" ></td>\n",
       "                        <td id=\"T_4cc5c7b6_94b7_11ef_bdbb_96000040dfb6row10_col4\" class=\"data row10 col4\" ></td>\n",
       "                        <td id=\"T_4cc5c7b6_94b7_11ef_bdbb_96000040dfb6row10_col5\" class=\"data row10 col5\" ></td>\n",
       "                        <td id=\"T_4cc5c7b6_94b7_11ef_bdbb_96000040dfb6row10_col6\" class=\"data row10 col6\" ></td>\n",
       "                        <td id=\"T_4cc5c7b6_94b7_11ef_bdbb_96000040dfb6row10_col7\" class=\"data row10 col7\" ></td>\n",
       "                        <td id=\"T_4cc5c7b6_94b7_11ef_bdbb_96000040dfb6row10_col8\" class=\"data row10 col8\" ></td>\n",
       "                        <td id=\"T_4cc5c7b6_94b7_11ef_bdbb_96000040dfb6row10_col9\" class=\"data row10 col9\" ></td>\n",
       "                        <td id=\"T_4cc5c7b6_94b7_11ef_bdbb_96000040dfb6row10_col10\" class=\"data row10 col10\" ></td>\n",
       "                        <td id=\"T_4cc5c7b6_94b7_11ef_bdbb_96000040dfb6row10_col11\" class=\"data row10 col11\" ></td>\n",
       "                        <td id=\"T_4cc5c7b6_94b7_11ef_bdbb_96000040dfb6row10_col12\" class=\"data row10 col12\" ></td>\n",
       "            </tr>\n",
       "            <tr>\n",
       "                        <th id=\"T_4cc5c7b6_94b7_11ef_bdbb_96000040dfb6level0_row11\" class=\"row_heading level0 row11\" >2020-09-21</th>\n",
       "                        <td id=\"T_4cc5c7b6_94b7_11ef_bdbb_96000040dfb6row11_col0\" class=\"data row11 col0\" >1.89%</td>\n",
       "                        <td id=\"T_4cc5c7b6_94b7_11ef_bdbb_96000040dfb6row11_col1\" class=\"data row11 col1\" >2.99%</td>\n",
       "                        <td id=\"T_4cc5c7b6_94b7_11ef_bdbb_96000040dfb6row11_col2\" class=\"data row11 col2\" ></td>\n",
       "                        <td id=\"T_4cc5c7b6_94b7_11ef_bdbb_96000040dfb6row11_col3\" class=\"data row11 col3\" ></td>\n",
       "                        <td id=\"T_4cc5c7b6_94b7_11ef_bdbb_96000040dfb6row11_col4\" class=\"data row11 col4\" ></td>\n",
       "                        <td id=\"T_4cc5c7b6_94b7_11ef_bdbb_96000040dfb6row11_col5\" class=\"data row11 col5\" ></td>\n",
       "                        <td id=\"T_4cc5c7b6_94b7_11ef_bdbb_96000040dfb6row11_col6\" class=\"data row11 col6\" ></td>\n",
       "                        <td id=\"T_4cc5c7b6_94b7_11ef_bdbb_96000040dfb6row11_col7\" class=\"data row11 col7\" ></td>\n",
       "                        <td id=\"T_4cc5c7b6_94b7_11ef_bdbb_96000040dfb6row11_col8\" class=\"data row11 col8\" ></td>\n",
       "                        <td id=\"T_4cc5c7b6_94b7_11ef_bdbb_96000040dfb6row11_col9\" class=\"data row11 col9\" ></td>\n",
       "                        <td id=\"T_4cc5c7b6_94b7_11ef_bdbb_96000040dfb6row11_col10\" class=\"data row11 col10\" ></td>\n",
       "                        <td id=\"T_4cc5c7b6_94b7_11ef_bdbb_96000040dfb6row11_col11\" class=\"data row11 col11\" ></td>\n",
       "                        <td id=\"T_4cc5c7b6_94b7_11ef_bdbb_96000040dfb6row11_col12\" class=\"data row11 col12\" ></td>\n",
       "            </tr>\n",
       "            <tr>\n",
       "                        <th id=\"T_4cc5c7b6_94b7_11ef_bdbb_96000040dfb6level0_row12\" class=\"row_heading level0 row12\" >2020-09-22</th>\n",
       "                        <td id=\"T_4cc5c7b6_94b7_11ef_bdbb_96000040dfb6row12_col0\" class=\"data row12 col0\" >0.85%</td>\n",
       "                        <td id=\"T_4cc5c7b6_94b7_11ef_bdbb_96000040dfb6row12_col1\" class=\"data row12 col1\" ></td>\n",
       "                        <td id=\"T_4cc5c7b6_94b7_11ef_bdbb_96000040dfb6row12_col2\" class=\"data row12 col2\" ></td>\n",
       "                        <td id=\"T_4cc5c7b6_94b7_11ef_bdbb_96000040dfb6row12_col3\" class=\"data row12 col3\" ></td>\n",
       "                        <td id=\"T_4cc5c7b6_94b7_11ef_bdbb_96000040dfb6row12_col4\" class=\"data row12 col4\" ></td>\n",
       "                        <td id=\"T_4cc5c7b6_94b7_11ef_bdbb_96000040dfb6row12_col5\" class=\"data row12 col5\" ></td>\n",
       "                        <td id=\"T_4cc5c7b6_94b7_11ef_bdbb_96000040dfb6row12_col6\" class=\"data row12 col6\" ></td>\n",
       "                        <td id=\"T_4cc5c7b6_94b7_11ef_bdbb_96000040dfb6row12_col7\" class=\"data row12 col7\" ></td>\n",
       "                        <td id=\"T_4cc5c7b6_94b7_11ef_bdbb_96000040dfb6row12_col8\" class=\"data row12 col8\" ></td>\n",
       "                        <td id=\"T_4cc5c7b6_94b7_11ef_bdbb_96000040dfb6row12_col9\" class=\"data row12 col9\" ></td>\n",
       "                        <td id=\"T_4cc5c7b6_94b7_11ef_bdbb_96000040dfb6row12_col10\" class=\"data row12 col10\" ></td>\n",
       "                        <td id=\"T_4cc5c7b6_94b7_11ef_bdbb_96000040dfb6row12_col11\" class=\"data row12 col11\" ></td>\n",
       "                        <td id=\"T_4cc5c7b6_94b7_11ef_bdbb_96000040dfb6row12_col12\" class=\"data row12 col12\" ></td>\n",
       "            </tr>\n",
       "            <tr>\n",
       "                        <th id=\"T_4cc5c7b6_94b7_11ef_bdbb_96000040dfb6level0_row13\" class=\"row_heading level0 row13\" >2020-09-23</th>\n",
       "                        <td id=\"T_4cc5c7b6_94b7_11ef_bdbb_96000040dfb6row13_col0\" class=\"data row13 col0\" ></td>\n",
       "                        <td id=\"T_4cc5c7b6_94b7_11ef_bdbb_96000040dfb6row13_col1\" class=\"data row13 col1\" ></td>\n",
       "                        <td id=\"T_4cc5c7b6_94b7_11ef_bdbb_96000040dfb6row13_col2\" class=\"data row13 col2\" ></td>\n",
       "                        <td id=\"T_4cc5c7b6_94b7_11ef_bdbb_96000040dfb6row13_col3\" class=\"data row13 col3\" ></td>\n",
       "                        <td id=\"T_4cc5c7b6_94b7_11ef_bdbb_96000040dfb6row13_col4\" class=\"data row13 col4\" ></td>\n",
       "                        <td id=\"T_4cc5c7b6_94b7_11ef_bdbb_96000040dfb6row13_col5\" class=\"data row13 col5\" ></td>\n",
       "                        <td id=\"T_4cc5c7b6_94b7_11ef_bdbb_96000040dfb6row13_col6\" class=\"data row13 col6\" ></td>\n",
       "                        <td id=\"T_4cc5c7b6_94b7_11ef_bdbb_96000040dfb6row13_col7\" class=\"data row13 col7\" ></td>\n",
       "                        <td id=\"T_4cc5c7b6_94b7_11ef_bdbb_96000040dfb6row13_col8\" class=\"data row13 col8\" ></td>\n",
       "                        <td id=\"T_4cc5c7b6_94b7_11ef_bdbb_96000040dfb6row13_col9\" class=\"data row13 col9\" ></td>\n",
       "                        <td id=\"T_4cc5c7b6_94b7_11ef_bdbb_96000040dfb6row13_col10\" class=\"data row13 col10\" ></td>\n",
       "                        <td id=\"T_4cc5c7b6_94b7_11ef_bdbb_96000040dfb6row13_col11\" class=\"data row13 col11\" ></td>\n",
       "                        <td id=\"T_4cc5c7b6_94b7_11ef_bdbb_96000040dfb6row13_col12\" class=\"data row13 col12\" ></td>\n",
       "            </tr>\n",
       "    </tbody></table>"
      ],
      "text/plain": [
       "<pandas.io.formats.style.Styler at 0x7f5f78656358>"
      ]
     },
     "execution_count": 19,
     "metadata": {},
     "output_type": "execute_result"
    }
   ],
   "source": [
    "retention_rate(merged_df, '2020-09-10', '2020-09-23', max_days=15)"
   ]
  },
  {
   "cell_type": "code",
   "execution_count": 36,
   "metadata": {},
   "outputs": [
    {
     "name": "stdout",
     "output_type": "stream",
     "text": [
      "\n",
      "    Функция для вычисления коэффициента удержания (retention) по когортам с последующей визуализацией.\n",
      "\n",
      "    Параметры:\n",
      "    merged_df: объединенный DataFrame, содержащий данные о регистрациях и авторизациях пользователей.\n",
      "    start_time: дата начала периода в формате 'YYYY-MM-DD'.\n",
      "    finish_time: дата окончания периода в формате 'YYYY-MM-DD'.\n",
      "    max_days: количество дней, отображаемых в результате вычисления удержания пользователей.\n",
      "    \n",
      "    Возвращает: DataFrame с рассчитанным коэффициентом удержания за указанный период.\n",
      "    \n"
     ]
    }
   ],
   "source": [
    "print(retention_rate.__doc__)"
   ]
  },
  {
   "cell_type": "markdown",
   "metadata": {},
   "source": [
    "В результате когортного анализа мы наблюдаем, что уровень удержания (retention) в первый день значительно ниже, чем в последующие дни. Это может указывать на высокий порог входа в мобильное приложение, из-за чего пользователи испытывают трудности на начальном этапе."
   ]
  },
  {
   "cell_type": "markdown",
   "metadata": {},
   "source": [
    "## Задание 2"
   ]
  },
  {
   "cell_type": "markdown",
   "metadata": {},
   "source": [
    "Имеются результаты A/B теста, в котором двум группам пользователей предлагались различные наборы акционных предложений. Известно, что ARPU в тестовой группе выше на 5%, чем в контрольной. При этом в контрольной группе 1928 игроков из 202103 оказались платящими, а в тестовой – 1805 из 202667.\n",
    "\n",
    "Какой набор предложений можно считать лучшим? Какие метрики стоит проанализировать для принятия правильного решения и как?"
   ]
  },
  {
   "cell_type": "code",
   "execution_count": 3,
   "metadata": {},
   "outputs": [],
   "source": [
    "data = pd.read_csv('/mnt/HC_Volume_18315164/home-jupyter/jupyter-r-gilvanov/projects/Проект_1_Задание_2.csv', sep=';')"
   ]
  },
  {
   "cell_type": "code",
   "execution_count": 4,
   "metadata": {},
   "outputs": [
    {
     "data": {
      "text/html": [
       "<div>\n",
       "<style scoped>\n",
       "    .dataframe tbody tr th:only-of-type {\n",
       "        vertical-align: middle;\n",
       "    }\n",
       "\n",
       "    .dataframe tbody tr th {\n",
       "        vertical-align: top;\n",
       "    }\n",
       "\n",
       "    .dataframe thead th {\n",
       "        text-align: right;\n",
       "    }\n",
       "</style>\n",
       "<table border=\"1\" class=\"dataframe\">\n",
       "  <thead>\n",
       "    <tr style=\"text-align: right;\">\n",
       "      <th></th>\n",
       "      <th>user_id</th>\n",
       "      <th>revenue</th>\n",
       "      <th>testgroup</th>\n",
       "    </tr>\n",
       "  </thead>\n",
       "  <tbody>\n",
       "    <tr>\n",
       "      <th>0</th>\n",
       "      <td>1</td>\n",
       "      <td>0</td>\n",
       "      <td>b</td>\n",
       "    </tr>\n",
       "    <tr>\n",
       "      <th>1</th>\n",
       "      <td>2</td>\n",
       "      <td>0</td>\n",
       "      <td>a</td>\n",
       "    </tr>\n",
       "    <tr>\n",
       "      <th>2</th>\n",
       "      <td>3</td>\n",
       "      <td>0</td>\n",
       "      <td>a</td>\n",
       "    </tr>\n",
       "    <tr>\n",
       "      <th>3</th>\n",
       "      <td>4</td>\n",
       "      <td>0</td>\n",
       "      <td>b</td>\n",
       "    </tr>\n",
       "    <tr>\n",
       "      <th>4</th>\n",
       "      <td>5</td>\n",
       "      <td>0</td>\n",
       "      <td>b</td>\n",
       "    </tr>\n",
       "  </tbody>\n",
       "</table>\n",
       "</div>"
      ],
      "text/plain": [
       "   user_id  revenue testgroup\n",
       "0        1        0         b\n",
       "1        2        0         a\n",
       "2        3        0         a\n",
       "3        4        0         b\n",
       "4        5        0         b"
      ]
     },
     "execution_count": 4,
     "metadata": {},
     "output_type": "execute_result"
    }
   ],
   "source": [
    "data.head()"
   ]
  },
  {
   "cell_type": "code",
   "execution_count": 5,
   "metadata": {},
   "outputs": [
    {
     "name": "stdout",
     "output_type": "stream",
     "text": [
      "<class 'pandas.core.frame.DataFrame'>\n",
      "RangeIndex: 404770 entries, 0 to 404769\n",
      "Data columns (total 3 columns):\n",
      " #   Column     Non-Null Count   Dtype \n",
      "---  ------     --------------   ----- \n",
      " 0   user_id    404770 non-null  int64 \n",
      " 1   revenue    404770 non-null  int64 \n",
      " 2   testgroup  404770 non-null  object\n",
      "dtypes: int64(2), object(1)\n",
      "memory usage: 9.3+ MB\n"
     ]
    }
   ],
   "source": [
    "# Знакомство с нашими данными: кол-во строк и столбцов, типы переменных, а так же наличие пропущенных значений\n",
    "\n",
    "data.info()"
   ]
  },
  {
   "cell_type": "code",
   "execution_count": 6,
   "metadata": {},
   "outputs": [
    {
     "data": {
      "text/plain": [
       "user_id      0\n",
       "revenue      0\n",
       "testgroup    0\n",
       "dtype: int64"
      ]
     },
     "execution_count": 6,
     "metadata": {},
     "output_type": "execute_result"
    }
   ],
   "source": [
    "data.isna().sum()"
   ]
  },
  {
   "cell_type": "code",
   "execution_count": 7,
   "metadata": {},
   "outputs": [
    {
     "data": {
      "text/plain": [
       "202103"
      ]
     },
     "execution_count": 7,
     "metadata": {},
     "output_type": "execute_result"
    }
   ],
   "source": [
    "# Проверим размеры групп, число платных клиентов в группах\n",
    "data.query(\"testgroup == 'a'\").user_id.nunique()"
   ]
  },
  {
   "cell_type": "code",
   "execution_count": 8,
   "metadata": {},
   "outputs": [
    {
     "data": {
      "text/plain": [
       "202667"
      ]
     },
     "execution_count": 8,
     "metadata": {},
     "output_type": "execute_result"
    }
   ],
   "source": [
    "data.query(\"testgroup == 'b'\").user_id.nunique()"
   ]
  },
  {
   "cell_type": "code",
   "execution_count": 9,
   "metadata": {},
   "outputs": [
    {
     "data": {
      "text/plain": [
       "1928"
      ]
     },
     "execution_count": 9,
     "metadata": {},
     "output_type": "execute_result"
    }
   ],
   "source": [
    "data.query('testgroup == \"a\" and revenue > 0').user_id.nunique()"
   ]
  },
  {
   "cell_type": "code",
   "execution_count": 10,
   "metadata": {},
   "outputs": [
    {
     "data": {
      "text/plain": [
       "1805"
      ]
     },
     "execution_count": 10,
     "metadata": {},
     "output_type": "execute_result"
    }
   ],
   "source": [
    "data.query('testgroup == \"b\" and revenue > 0').user_id.nunique()"
   ]
  },
  {
   "cell_type": "markdown",
   "metadata": {},
   "source": [
    "В контрольной группе дейсвительно 1928 игроков из 202103 оказались платящими, а в тестовой – 1805 из 202667. Сравним ARPU в тестовой и контрольной группе."
   ]
  },
  {
   "cell_type": "code",
   "execution_count": 11,
   "metadata": {},
   "outputs": [
    {
     "data": {
      "text/plain": [
       "5136189"
      ]
     },
     "execution_count": 11,
     "metadata": {},
     "output_type": "execute_result"
    }
   ],
   "source": [
    "revenue_a = data.query(\"testgroup == 'a'\").revenue.sum()\n",
    "revenue_a"
   ]
  },
  {
   "cell_type": "code",
   "execution_count": 12,
   "metadata": {},
   "outputs": [
    {
     "data": {
      "text/plain": [
       "5421603"
      ]
     },
     "execution_count": 12,
     "metadata": {},
     "output_type": "execute_result"
    }
   ],
   "source": [
    "revenue_b = data.query(\"testgroup == 'b'\").revenue.sum()\n",
    "revenue_b"
   ]
  },
  {
   "cell_type": "code",
   "execution_count": 13,
   "metadata": {},
   "outputs": [
    {
     "data": {
      "text/plain": [
       "25.413719736965806"
      ]
     },
     "execution_count": 13,
     "metadata": {},
     "output_type": "execute_result"
    }
   ],
   "source": [
    "ARPU_a = revenue_a / data.query(\"testgroup == 'a'\").user_id.nunique()\n",
    "ARPU_a"
   ]
  },
  {
   "cell_type": "code",
   "execution_count": 14,
   "metadata": {},
   "outputs": [
    {
     "data": {
      "text/plain": [
       "26.75128659327863"
      ]
     },
     "execution_count": 14,
     "metadata": {},
     "output_type": "execute_result"
    }
   ],
   "source": [
    "ARPU_b = revenue_b / data.query(\"testgroup == 'b'\").user_id.nunique()\n",
    "ARPU_b"
   ]
  },
  {
   "cell_type": "code",
   "execution_count": 15,
   "metadata": {},
   "outputs": [
    {
     "data": {
      "text/plain": [
       "5.0"
      ]
     },
     "execution_count": 15,
     "metadata": {},
     "output_type": "execute_result"
    }
   ],
   "source": [
    "round((ARPU_b - ARPU_a) / ARPU_b * 100, 2)"
   ]
  },
  {
   "cell_type": "markdown",
   "metadata": {},
   "source": [
    "ARPU в тестовой группе дейсвительно выше на 5%, чем в контрольной. Сравним ARPPU."
   ]
  },
  {
   "cell_type": "code",
   "execution_count": 16,
   "metadata": {},
   "outputs": [
    {
     "data": {
      "text/plain": [
       "2663.9984439834025"
      ]
     },
     "execution_count": 16,
     "metadata": {},
     "output_type": "execute_result"
    }
   ],
   "source": [
    "ARPPU_a = revenue_a / data.query('testgroup == \"a\" and revenue > 0').user_id.nunique()\n",
    "ARPPU_a"
   ]
  },
  {
   "cell_type": "code",
   "execution_count": 17,
   "metadata": {},
   "outputs": [
    {
     "data": {
      "text/plain": [
       "3003.6581717451522"
      ]
     },
     "execution_count": 17,
     "metadata": {},
     "output_type": "execute_result"
    }
   ],
   "source": [
    "ARPPU_b = revenue_b / data.query('testgroup == \"b\" and revenue > 0').user_id.nunique()\n",
    "ARPPU_b"
   ]
  },
  {
   "cell_type": "code",
   "execution_count": 18,
   "metadata": {},
   "outputs": [
    {
     "data": {
      "text/plain": [
       "11"
      ]
     },
     "execution_count": 18,
     "metadata": {},
     "output_type": "execute_result"
    }
   ],
   "source": [
    "round((ARPPU_b - ARPPU_a) / ARPPU_b * 100)"
   ]
  },
  {
   "cell_type": "markdown",
   "metadata": {},
   "source": [
    "ARPPU в тестовой группе на 11% выше, чем в контрольной. Теперь посмотрим на CR в %"
   ]
  },
  {
   "cell_type": "code",
   "execution_count": 19,
   "metadata": {},
   "outputs": [
    {
     "data": {
      "text/plain": [
       "0.95"
      ]
     },
     "execution_count": 19,
     "metadata": {},
     "output_type": "execute_result"
    }
   ],
   "source": [
    "CR_a = round(data.query('testgroup == \"a\" and revenue > 0').user_id.nunique() / data.query(\"testgroup == 'a'\").user_id.nunique() * 100, 2)\n",
    "CR_a"
   ]
  },
  {
   "cell_type": "code",
   "execution_count": 20,
   "metadata": {},
   "outputs": [
    {
     "data": {
      "text/plain": [
       "0.89"
      ]
     },
     "execution_count": 20,
     "metadata": {},
     "output_type": "execute_result"
    }
   ],
   "source": [
    "CR_b = round(data.query('testgroup == \"b\" and revenue > 0').user_id.nunique() / data.query(\"testgroup == 'b'\").user_id.nunique() * 100, 2)\n",
    "CR_b"
   ]
  },
  {
   "cell_type": "code",
   "execution_count": 21,
   "metadata": {},
   "outputs": [
    {
     "data": {
      "text/plain": [
       "6.32"
      ]
     },
     "execution_count": 21,
     "metadata": {},
     "output_type": "execute_result"
    }
   ],
   "source": [
    "round((CR_a - CR_b) / CR_a * 100, 2)"
   ]
  },
  {
   "cell_type": "markdown",
   "metadata": {},
   "source": [
    "CR в контрольной группе на 6.32% выше, чем в тестовой."
   ]
  },
  {
   "cell_type": "code",
   "execution_count": 22,
   "metadata": {},
   "outputs": [],
   "source": [
    "# Разделим датафрейм для удобства\n",
    "\n",
    "control_group = data.query('testgroup == \"a\"')\n",
    "test_group = data.query('testgroup == \"b\"')"
   ]
  },
  {
   "cell_type": "code",
   "execution_count": 23,
   "metadata": {},
   "outputs": [
    {
     "data": {
      "text/plain": [
       "count    202103.000000\n",
       "mean         25.413720\n",
       "std         920.768137\n",
       "min           0.000000\n",
       "25%           0.000000\n",
       "50%           0.000000\n",
       "75%           0.000000\n",
       "max       37433.000000\n",
       "Name: revenue, dtype: float64"
      ]
     },
     "execution_count": 23,
     "metadata": {},
     "output_type": "execute_result"
    }
   ],
   "source": [
    "# Посмотрим на распределение прибыли\n",
    "\n",
    "control_group['revenue'].describe()"
   ]
  },
  {
   "cell_type": "code",
   "execution_count": 24,
   "metadata": {},
   "outputs": [
    {
     "data": {
      "text/plain": [
       "count    202667.000000\n",
       "mean         26.751287\n",
       "std         287.324162\n",
       "min           0.000000\n",
       "25%           0.000000\n",
       "50%           0.000000\n",
       "75%           0.000000\n",
       "max        4000.000000\n",
       "Name: revenue, dtype: float64"
      ]
     },
     "execution_count": 24,
     "metadata": {},
     "output_type": "execute_result"
    }
   ],
   "source": [
    "test_group['revenue'].describe()"
   ]
  },
  {
   "cell_type": "code",
   "execution_count": null,
   "metadata": {},
   "outputs": [],
   "source": [
    "# Видим, что максимальный чек в контрольной группе почти в 10 раз больше, чем в тестовой\n",
    "# Посмотрим гисторгамы распредаления чеков"
   ]
  },
  {
   "cell_type": "code",
   "execution_count": 22,
   "metadata": {},
   "outputs": [
    {
     "data": {
      "text/plain": [
       "<matplotlib.axes._subplots.AxesSubplot at 0x7fdca0a68710>"
      ]
     },
     "execution_count": 22,
     "metadata": {},
     "output_type": "execute_result"
    },
    {
     "data": {
      "image/png": "[encoded data removed]",
      "text/plain": [
       "<Figure size 864x432 with 1 Axes>"
      ]
     },
     "metadata": {},
     "output_type": "display_data"
    }
   ],
   "source": [
    "control_group.query('revenue > 0').revenue.hist()"
   ]
  },
  {
   "cell_type": "code",
   "execution_count": 23,
   "metadata": {},
   "outputs": [
    {
     "data": {
      "text/plain": [
       "<matplotlib.axes._subplots.AxesSubplot at 0x7fdca09df048>"
      ]
     },
     "execution_count": 23,
     "metadata": {},
     "output_type": "execute_result"
    },
    {
     "data": {
      "image/png": "[encoded data removed]",
      "text/plain": [
       "<Figure size 864x432 with 1 Axes>"
      ]
     },
     "metadata": {},
     "output_type": "display_data"
    }
   ],
   "source": [
    "test_group.query('revenue > 0').revenue.hist()"
   ]
  },
  {
   "cell_type": "code",
   "execution_count": 31,
   "metadata": {},
   "outputs": [
    {
     "data": {
      "text/plain": [
       "<matplotlib.axes._subplots.AxesSubplot at 0x7fdca0589d30>"
      ]
     },
     "execution_count": 31,
     "metadata": {},
     "output_type": "execute_result"
    },
    {
     "data": {
      "image/png": "[encoded data removed]",
      "text/plain": [
       "<Figure size 360x288 with 1 Axes>"
      ]
     },
     "metadata": {},
     "output_type": "display_data"
    }
   ],
   "source": [
    "pg.qqplot(control_group.query('revenue > 0').revenue)"
   ]
  },
  {
   "cell_type": "code",
   "execution_count": 32,
   "metadata": {},
   "outputs": [
    {
     "data": {
      "text/plain": [
       "<matplotlib.axes._subplots.AxesSubplot at 0x7fdca05195f8>"
      ]
     },
     "execution_count": 32,
     "metadata": {},
     "output_type": "execute_result"
    },
    {
     "data": {
      "image/png": "[encoded data removed]",
      "text/plain": [
       "<Figure size 360x288 with 1 Axes>"
      ]
     },
     "metadata": {},
     "output_type": "display_data"
    }
   ],
   "source": [
    "pg.qqplot(test_group.query('revenue > 0').revenue)"
   ]
  },
  {
   "cell_type": "code",
   "execution_count": 32,
   "metadata": {},
   "outputs": [
    {
     "data": {
      "text/plain": [
       "<matplotlib.axes._subplots.AxesSubplot at 0x7f6c9eecc828>"
      ]
     },
     "execution_count": 32,
     "metadata": {},
     "output_type": "execute_result"
    },
    {
     "data": {
      "image/png": "[encoded data removed]",
      "text/plain": [
       "<Figure size 864x432 with 1 Axes>"
      ]
     },
     "metadata": {},
     "output_type": "display_data"
    }
   ],
   "source": [
    "# В контрольной группе часть пользователей имеют аномально большой revenue, в то время как в тестовой группе\n",
    "# покупки находятся в диапазоне 2000-4000. \n",
    "# Посмотрим на дорогостоящие покупки в контрольной группе\n",
    "\n",
    "control_group.query('revenue > 30000').revenue.hist()"
   ]
  },
  {
   "cell_type": "code",
   "execution_count": 33,
   "metadata": {},
   "outputs": [
    {
     "data": {
      "text/plain": [
       "<matplotlib.axes._subplots.AxesSubplot at 0x7f6c9ee59cc0>"
      ]
     },
     "execution_count": 33,
     "metadata": {},
     "output_type": "execute_result"
    },
    {
     "data": {
      "image/png": "[encoded data removed]",
      "text/plain": [
       "<Figure size 360x288 with 1 Axes>"
      ]
     },
     "metadata": {},
     "output_type": "display_data"
    }
   ],
   "source": [
    "pg.qqplot(control_group.query('revenue > 30000').revenue)"
   ]
  },
  {
   "cell_type": "code",
   "execution_count": 31,
   "metadata": {},
   "outputs": [
    {
     "data": {
      "text/plain": [
       "<matplotlib.axes._subplots.AxesSubplot at 0x7f6c9f444a58>"
      ]
     },
     "execution_count": 31,
     "metadata": {},
     "output_type": "execute_result"
    },
    {
     "data": {
      "image/png": "[encoded data removed]",
      "text/plain": [
       "<Figure size 864x432 with 1 Axes>"
      ]
     },
     "metadata": {},
     "output_type": "display_data"
    }
   ],
   "source": [
    "# Пробуем построить гистограмму без учета этих пользователей, видим что тогда покупки находятся в диапазоне 200-400\n",
    "\n",
    "control_group.query('revenue > 0 & revenue < 30000').revenue.hist()"
   ]
  },
  {
   "cell_type": "code",
   "execution_count": 35,
   "metadata": {},
   "outputs": [
    {
     "data": {
      "text/plain": [
       "<matplotlib.axes._subplots.AxesSubplot at 0x7fdca041ff60>"
      ]
     },
     "execution_count": 35,
     "metadata": {},
     "output_type": "execute_result"
    },
    {
     "data": {
      "image/png": "[encoded data removed]",
      "text/plain": [
       "<Figure size 360x288 with 1 Axes>"
      ]
     },
     "metadata": {},
     "output_type": "display_data"
    }
   ],
   "source": [
    "pg.qqplot(control_group.query('revenue > 0 & revenue < 30000').revenue)"
   ]
  },
  {
   "cell_type": "code",
   "execution_count": 38,
   "metadata": {},
   "outputs": [
    {
     "data": {
      "text/plain": [
       "89.0"
      ]
     },
     "execution_count": 38,
     "metadata": {},
     "output_type": "execute_result"
    }
   ],
   "source": [
    "# Посмотрим, какой процент от выручки в контрольной группе имеют клиенты с дорогостоящими покупками\n",
    "round(control_group.query('revenue > 30000').revenue.sum()/control_group.revenue.sum(), 2) * 100"
   ]
  },
  {
   "cell_type": "markdown",
   "metadata": {},
   "source": [
    "На этот раз я заметил, что в контрольной группе небольшая доля пользователей с дорогими покупками составляет 89% от общей выручки, в то время как остальные покупки находятся в диапазоне 200-400. В нашем случае нельзя с полной уверенностью утверждать, что это выбросы. В тестовой группе такого значительного преобладания дорогих покупок не наблюдается, и все они находятся в диапазоне 2000-4000. У меня возникают сомнения относительно корректности проведения A/B теста, так как в группах представлены разные, непересекающиеся сегменты пользователей: в контрольной группе — 200-400 и 37000+, а в тестовой — 2000-4000. Это может указывать на ошибку в сплитировании пользователей, и в таком случае стоит пересобрать группы и провести новый эксперимент.\n",
    "\n",
    "Тем не менее, поскольку мы не знаем точного происхождения этих данных и какие товары участвовали в акции, а также учитывая, что в самом задании указано, что двум группам пользователей предлагались разные наборы акционных предложений, возможно, стоит сравнить акции для различных категорий товаров в обеих группах, которые принесли выручку на примерно одинаковом уровне. Тогда это может выглядить логично, и мы можем статистически сравнить наши метрики: CR, ARPU, ARPPU"
   ]
  },
  {
   "cell_type": "markdown",
   "metadata": {},
   "source": [
    "Начнем с конверсии CR. \n",
    "Первая гипотеза для проверки:\n",
    "- **Нулевая гипотеза (H0):** Не наблюдается значительных различий между платными и бесплатными пользователями в тестовой и контрольной группах.\n",
    "- **Альтернативная гипотеза (H1):** Имеются значительные различия между платными и бесплатными пользователями в тестовой и контрольной группах."
   ]
  },
  {
   "cell_type": "code",
   "execution_count": 39,
   "metadata": {},
   "outputs": [],
   "source": [
    "# Группировка и подсчет значений плативших и неплативших пользователей для контрольной и тестовой группы\n",
    "paid_vs_free_users = data.groupby('testgroup')['revenue'].agg(\n",
    "    paid=lambda x: (x > 0).sum(),\n",
    "    free=lambda x: (x <= 0).sum()\n",
    ").reset_index()"
   ]
  },
  {
   "cell_type": "code",
   "execution_count": 40,
   "metadata": {},
   "outputs": [
    {
     "data": {
      "text/html": [
       "<div>\n",
       "<style scoped>\n",
       "    .dataframe tbody tr th:only-of-type {\n",
       "        vertical-align: middle;\n",
       "    }\n",
       "\n",
       "    .dataframe tbody tr th {\n",
       "        vertical-align: top;\n",
       "    }\n",
       "\n",
       "    .dataframe thead th {\n",
       "        text-align: right;\n",
       "    }\n",
       "</style>\n",
       "<table border=\"1\" class=\"dataframe\">\n",
       "  <thead>\n",
       "    <tr style=\"text-align: right;\">\n",
       "      <th></th>\n",
       "      <th>testgroup</th>\n",
       "      <th>paid</th>\n",
       "      <th>free</th>\n",
       "    </tr>\n",
       "  </thead>\n",
       "  <tbody>\n",
       "    <tr>\n",
       "      <th>0</th>\n",
       "      <td>a</td>\n",
       "      <td>1928</td>\n",
       "      <td>200175</td>\n",
       "    </tr>\n",
       "    <tr>\n",
       "      <th>1</th>\n",
       "      <td>b</td>\n",
       "      <td>1805</td>\n",
       "      <td>200862</td>\n",
       "    </tr>\n",
       "  </tbody>\n",
       "</table>\n",
       "</div>"
      ],
      "text/plain": [
       "  testgroup  paid    free\n",
       "0         a  1928  200175\n",
       "1         b  1805  200862"
      ]
     },
     "execution_count": 40,
     "metadata": {},
     "output_type": "execute_result"
    }
   ],
   "source": [
    "paid_vs_free_users"
   ]
  },
  {
   "cell_type": "code",
   "execution_count": 41,
   "metadata": {},
   "outputs": [],
   "source": [
    "# Создание таблицы сопряженности\n",
    "contingency_table = paid_vs_free_users[['paid', 'free']].values"
   ]
  },
  {
   "cell_type": "code",
   "execution_count": 46,
   "metadata": {},
   "outputs": [],
   "source": [
    "# Проведение теста хи-квадрат\n",
    "chi2, p, dof, expected = chi2_contingency(contingency_table)"
   ]
  },
  {
   "cell_type": "code",
   "execution_count": 47,
   "metadata": {},
   "outputs": [
    {
     "data": {
      "text/plain": [
       "(4.374729521260405, 0.03647561892312613)"
      ]
     },
     "execution_count": 47,
     "metadata": {},
     "output_type": "execute_result"
    }
   ],
   "source": [
    "chi2, p"
   ]
  },
  {
   "cell_type": "markdown",
   "metadata": {},
   "source": [
    "Полученное p-значение, которое составляет менее 0.05, дает нам возможность отвергнуть нулевую гипотезу и принять альтернативную. Это указывает на то, что конверсии в группах существенно различаются, и акции в контрольной группе более эффективно побуждают пользователей к совершению покупок."
   ]
  },
  {
   "cell_type": "markdown",
   "metadata": {},
   "source": [
    "Теперь проанализируем ARPPU.\n",
    "\n",
    "Вторая гипотеза для проверки:\n",
    "- **Нулевая гипотеза (H0):** Не наблюдается значительных различий ARPPU в тестовой и контрольной группах.\n",
    "- **Альтернативная гипотеза (H1):** Имеются значительные различия ARPPU в тестовой и контрольной группах."
   ]
  },
  {
   "cell_type": "code",
   "execution_count": 33,
   "metadata": {},
   "outputs": [],
   "source": [
    "# Тест Левене для проверки гомогенности дисперсий\n",
    "levene_test_arppu = stats.levene(control_group.query('revenue > 0').revenue, test_group.query('revenue > 0').revenue)"
   ]
  },
  {
   "cell_type": "code",
   "execution_count": 34,
   "metadata": {},
   "outputs": [
    {
     "name": "stdout",
     "output_type": "stream",
     "text": [
      "Levene's test p-value: 3.779689868667878e-19\n"
     ]
    }
   ],
   "source": [
    "# Результаты теста Левене\n",
    "print(\"Levene's test p-value:\", levene_test_arppu.pvalue)"
   ]
  },
  {
   "cell_type": "code",
   "execution_count": 35,
   "metadata": {},
   "outputs": [
    {
     "name": "stdout",
     "output_type": "stream",
     "text": [
      "P-value: 0.10020780398916015\n"
     ]
    }
   ],
   "source": [
    "# В зависимости от результата теста Левене\n",
    "if levene_test_arppu.pvalue > 0.05:\n",
    "    # Если p-value больше 0.05, мы принимаем гипотезу о равенстве дисперсий\n",
    "    t_stat, p_value = stats.ttest_ind(control_group.query('revenue > 0').revenue, test_group.query('revenue > 0').revenue, equal_var=True)\n",
    "else:\n",
    "    # Если p-value меньше 0.05, дисперсии разные\n",
    "    t_stat, p_value = stats.ttest_ind(control_group.query('revenue > 0').revenue, test_group.query('revenue > 0').revenue, equal_var=False)\n",
    "\n",
    "print(\"P-value:\", p_value)"
   ]
  },
  {
   "cell_type": "markdown",
   "metadata": {},
   "source": [
    "Полученное p-значение > 0.05 не дает возможность отклонить нулевую гипотезу. Мы можем сделать вывод, что предложенные акции не оказали ожидаемого влияния на доход от платящих пользователей."
   ]
  },
  {
   "cell_type": "markdown",
   "metadata": {},
   "source": [
    "Теперь проанализируем ARPU.\n",
    "\n",
    "Вторая гипотеза для проверки:\n",
    "- **Нулевая гипотеза (H0):** Не наблюдается значительных различий ARPU в тестовой и контрольной группах.\n",
    "- **Альтернативная гипотеза (H1):** Имеются значительные различия ARPU в тестовой и контрольной группах."
   ]
  },
  {
   "cell_type": "code",
   "execution_count": 36,
   "metadata": {},
   "outputs": [
    {
     "name": "stdout",
     "output_type": "stream",
     "text": [
      "Levene's test p-value: 0.5324948591043842\n"
     ]
    }
   ],
   "source": [
    "# Тест Левене для проверки гомогенности дисперсий\n",
    "levene_test_arpu = stats.levene(control_group.revenue, test_group.revenue)\n",
    "\n",
    "# Результаты теста Левене\n",
    "print(\"Levene's test p-value:\", levene_test_arpu.pvalue)"
   ]
  },
  {
   "cell_type": "code",
   "execution_count": 37,
   "metadata": {},
   "outputs": [
    {
     "name": "stdout",
     "output_type": "stream",
     "text": [
      "P-value: 0.532494858971837\n"
     ]
    }
   ],
   "source": [
    "# В зависимости от результата теста Левене\n",
    "if levene_test_arpu.pvalue > 0.05:\n",
    "    # Если p-value больше 0.05, мы принимаем гипотезу о равенстве дисперсий\n",
    "    t_stat, p_value = stats.ttest_ind(control_group.revenue, test_group.revenue, equal_var=True)\n",
    "else:\n",
    "    # Если p-value меньше 0.05, дисперсии разные\n",
    "    t_stat, p_value = stats.ttest_ind(control_group.revenue, test_group.revenue, equal_var=False)\n",
    "\n",
    "print(\"P-value:\", p_value)"
   ]
  },
  {
   "cell_type": "markdown",
   "metadata": {},
   "source": [
    "Полученное p-значение > 0.05 не дает возможность отклонить нулевую гипотезу. Мы можем сделать вывод, что предложенные акции не оказали ожидаемого влияния на доход на пользователя."
   ]
  },
  {
   "cell_type": "code",
   "execution_count": 52,
   "metadata": {},
   "outputs": [
    {
     "data": {
      "text/plain": [
       "testgroup\n",
       "a    5136189\n",
       "b    5421603\n",
       "Name: revenue, dtype: int64"
      ]
     },
     "execution_count": 52,
     "metadata": {},
     "output_type": "execute_result"
    }
   ],
   "source": [
    "data.groupby('testgroup')['revenue'].sum()"
   ]
  },
  {
   "cell_type": "markdown",
   "metadata": {},
   "source": [
    "**Вывод:** Если все же считать, что A/B тест был проведен корректно, то после статистического анализа метрик можно сделать следующие выводы:\n",
    "- Контрольная группа более эффективно побуждала пользователей к совершению покупок, однако при этом приносила меньшую прибыль по сравнению с тестовой группой. \n",
    "- Средний чек как для всех покупателей, так и для платящих пользователей статистически значимо не изменился. \n",
    "\n",
    "В результате нельзя однозначно определить, какая из групп показала лучшие результаты по акциям. В качестве решения можно рассмотреть возможность проведения повторного теста, с менее противоречивыми данными."
   ]
  },
  {
   "cell_type": "markdown",
   "metadata": {},
   "source": [
    "## Задание 3"
   ]
  },
  {
   "cell_type": "markdown",
   "metadata": {},
   "source": [
    "В игре Plants & Gardens каждый месяц проводятся тематические события, ограниченные по времени. В них игроки могут получить уникальные предметы для сада и персонажей, дополнительные монеты или бонусы. Для получения награды требуется пройти ряд уровней за определенное время. С помощью каких метрик можно оценить результаты последнего прошедшего события?\n",
    "\n",
    "Предположим, в другом событии мы усложнили механику событий так, что при каждой неудачной попытке выполнения уровня игрок будет откатываться на несколько уровней назад. Изменится ли набор метрик оценки результата? Если да, то как?\n",
    "\n"
   ]
  },
  {
   "cell_type": "markdown",
   "metadata": {},
   "source": [
    "Для оценки результатов последнего прошедшего события в игре Plants & Gardens можно выделить ключевые метрики, разделив их на три категории: **Эффективность завершения**, **Вовлеченность игроков** и **Сложность игрового процесса**. \n",
    "\n",
    "Метрики, которые могут быть добавлены после усложнения механики в новом событии, где игроки будут возвращаться на несколько уровней назад при каждой неудачной попытке, выделены зеленым цветом. \n",
    "\n",
    "Приоритизация метрик может выглядеть следующим образом:\n",
    "\n",
    "### 1. Эффективность завершения\n",
    "- **Процент завершения события:** Это основная метрика, отражающая, насколько многие игроки успешно справились с событием. \n",
    "- <span style=\"color:green\">**Коэффициент завершения уровней:** Помогает оценить, насколько игроки могут преодолевать уровни после отката, что будет особенно важно при усложнении механик.</span>\n",
    "\n",
    "### 2. Вовлеченность игроков\n",
    "- **Время, проведенное в игре:** Общее время, проведенное игроками в игре в течение события, может показать интерес и вовлеченность в мероприятие.\n",
    "- **Количество полученных наград:** Общее количество уникальных предметов и бонусов, полученных игроками в ходе события.\n",
    "- **Общее количество собранных монет:** Сравнение количества монет, которые игроки собрали во время события, с предыдущими событиями.\n",
    "- <span style=\"color:green\">**Число возвратов пользователей в игру после неудачных попыток:** Показывает, насколько игроки мотивированы продолжать игру даже после трудностей.</span>\n",
    "\n",
    "### 3. Сложность игрового процесса\n",
    "- **Среднее время прохождения:** Время, затраченное игроками на прохождение уровня или всего события. Это поможет оценить, насколько сложно было пройти событие.\n",
    "- <span style=\"color:green\">**Среднее количество откатов:** Сколько раз в среднем игроки откатывались назад, что поможет оценить влияние сложности на игровой процесс.</span>\n",
    "- <span style=\"color:green\">**Время, проведенное на уровне:** Учитывая возможность откатов, эта метрика поможет понять, как долго игроки застревают на определенных этапах.</span>"
   ]
  }
 ],
 "metadata": {
  "kernelspec": {
   "display_name": "Python 3",
   "language": "python",
   "name": "python3"
  },
  "language_info": {
   "codemirror_mode": {
    "name": "ipython",
    "version": 3
   },
   "file_extension": ".py",
   "mimetype": "text/x-python",
   "name": "python",
   "nbconvert_exporter": "python",
   "pygments_lexer": "ipython3",
   "version": "3.7.3"
  }
 },
 "nbformat": 4,
 "nbformat_minor": 4
}
